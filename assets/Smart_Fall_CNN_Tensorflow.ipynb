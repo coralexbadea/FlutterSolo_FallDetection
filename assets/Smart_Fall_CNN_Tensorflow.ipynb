{
  "cells": [
    {
      "cell_type": "code",
      "execution_count": 126,
      "metadata": {
        "ExecuteTime": {
          "end_time": "2020-07-28T10:27:46.173057Z",
          "start_time": "2020-07-28T10:27:45.616963Z"
        },
        "id": "BsSBaOvK9gaI"
      },
      "outputs": [],
      "source": [
        "import matplotlib.pyplot as plt\n",
        "import numpy as np\n",
        "import pandas as pd\n",
        "from tqdm import tqdm_notebook as tqdm\n",
        "import collections \n",
        "import time\n",
        "%matplotlib inline\n",
        "\n",
        "from sklearn.model_selection import train_test_split\n",
        "from sklearn.preprocessing import LabelEncoder\n",
        "import tensorflow as tf\n",
        "from tensorflow import keras"
      ]
    },
    {
      "cell_type": "code",
      "source": [
        "from google.colab import drive\n",
        "drive.mount('/content/drive')"
      ],
      "metadata": {
        "id": "Ly_LokTY9ovl",
        "colab": {
          "base_uri": "https://localhost:8080/"
        },
        "outputId": "93eb1d3c-f347-4787-aa5c-58fa8b71466b"
      },
      "execution_count": 75,
      "outputs": [
        {
          "output_type": "stream",
          "name": "stdout",
          "text": [
            "Drive already mounted at /content/drive; to attempt to forcibly remount, call drive.mount(\"/content/drive\", force_remount=True).\n"
          ]
        }
      ]
    },
    {
      "cell_type": "code",
      "execution_count": 76,
      "metadata": {
        "ExecuteTime": {
          "end_time": "2020-07-28T10:27:46.865374Z",
          "start_time": "2020-07-28T10:27:46.824337Z"
        },
        "id": "lWBKfSwh9gaJ"
      },
      "outputs": [],
      "source": [
        "np.random.seed(42)"
      ]
    },
    {
      "cell_type": "code",
      "execution_count": 77,
      "metadata": {
        "ExecuteTime": {
          "end_time": "2020-07-28T10:27:47.536122Z",
          "start_time": "2020-07-28T10:27:47.464966Z"
        },
        "id": "iMI1mBn39gaK"
      },
      "outputs": [],
      "source": [
        "data_dir = \"/content/drive/MyDrive/Hackathon/SmartFall_Dataset\"\n",
        "\n",
        "train = pd.read_csv('/content/drive/MyDrive/Hackathon/SmartFall_Dataset/SmartFall_Dataset/SmartFall Training.csv')\n",
        "test = pd.read_csv('/content/drive/MyDrive/Hackathon/SmartFall_Dataset/SmartFall_Dataset/SmartFall Testing.csv')"
      ]
    },
    {
      "cell_type": "code",
      "source": [
        "test"
      ],
      "metadata": {
        "colab": {
          "base_uri": "https://localhost:8080/",
          "height": 423
        },
        "id": "DFycFffzJnls",
        "outputId": "210d6ce7-68ab-4ce8-e1f2-e54844cde09b"
      },
      "execution_count": 134,
      "outputs": [
        {
          "output_type": "execute_result",
          "data": {
            "text/plain": [
              "        ms_accelerometer_x   ms_accelerometer_y   ms_accelerometer_z  outcome\n",
              "0                 0.986328             0.210938            -0.105957        0\n",
              "1                 0.977051             0.203125            -0.109375        0\n",
              "2                 0.977051             0.203125            -0.109375        0\n",
              "3                 0.944336             0.191162            -0.107422        0\n",
              "4                 0.808838             0.211670            -0.071045        0\n",
              "...                    ...                  ...                  ...      ...\n",
              "91020             0.867188             0.416016             0.086426        0\n",
              "91021             0.780518             0.477539             0.062256        0\n",
              "91022             0.653076             0.355469             0.117920        0\n",
              "91023             0.675293             0.513672            -0.014160        0\n",
              "91024             0.770020             0.625000            -0.142090        0\n",
              "\n",
              "[91025 rows x 4 columns]"
            ],
            "text/html": [
              "\n",
              "  <div id=\"df-a32ba80f-beaa-4582-9056-49d0e01764aa\">\n",
              "    <div class=\"colab-df-container\">\n",
              "      <div>\n",
              "<style scoped>\n",
              "    .dataframe tbody tr th:only-of-type {\n",
              "        vertical-align: middle;\n",
              "    }\n",
              "\n",
              "    .dataframe tbody tr th {\n",
              "        vertical-align: top;\n",
              "    }\n",
              "\n",
              "    .dataframe thead th {\n",
              "        text-align: right;\n",
              "    }\n",
              "</style>\n",
              "<table border=\"1\" class=\"dataframe\">\n",
              "  <thead>\n",
              "    <tr style=\"text-align: right;\">\n",
              "      <th></th>\n",
              "      <th>ms_accelerometer_x</th>\n",
              "      <th>ms_accelerometer_y</th>\n",
              "      <th>ms_accelerometer_z</th>\n",
              "      <th>outcome</th>\n",
              "    </tr>\n",
              "  </thead>\n",
              "  <tbody>\n",
              "    <tr>\n",
              "      <th>0</th>\n",
              "      <td>0.986328</td>\n",
              "      <td>0.210938</td>\n",
              "      <td>-0.105957</td>\n",
              "      <td>0</td>\n",
              "    </tr>\n",
              "    <tr>\n",
              "      <th>1</th>\n",
              "      <td>0.977051</td>\n",
              "      <td>0.203125</td>\n",
              "      <td>-0.109375</td>\n",
              "      <td>0</td>\n",
              "    </tr>\n",
              "    <tr>\n",
              "      <th>2</th>\n",
              "      <td>0.977051</td>\n",
              "      <td>0.203125</td>\n",
              "      <td>-0.109375</td>\n",
              "      <td>0</td>\n",
              "    </tr>\n",
              "    <tr>\n",
              "      <th>3</th>\n",
              "      <td>0.944336</td>\n",
              "      <td>0.191162</td>\n",
              "      <td>-0.107422</td>\n",
              "      <td>0</td>\n",
              "    </tr>\n",
              "    <tr>\n",
              "      <th>4</th>\n",
              "      <td>0.808838</td>\n",
              "      <td>0.211670</td>\n",
              "      <td>-0.071045</td>\n",
              "      <td>0</td>\n",
              "    </tr>\n",
              "    <tr>\n",
              "      <th>...</th>\n",
              "      <td>...</td>\n",
              "      <td>...</td>\n",
              "      <td>...</td>\n",
              "      <td>...</td>\n",
              "    </tr>\n",
              "    <tr>\n",
              "      <th>91020</th>\n",
              "      <td>0.867188</td>\n",
              "      <td>0.416016</td>\n",
              "      <td>0.086426</td>\n",
              "      <td>0</td>\n",
              "    </tr>\n",
              "    <tr>\n",
              "      <th>91021</th>\n",
              "      <td>0.780518</td>\n",
              "      <td>0.477539</td>\n",
              "      <td>0.062256</td>\n",
              "      <td>0</td>\n",
              "    </tr>\n",
              "    <tr>\n",
              "      <th>91022</th>\n",
              "      <td>0.653076</td>\n",
              "      <td>0.355469</td>\n",
              "      <td>0.117920</td>\n",
              "      <td>0</td>\n",
              "    </tr>\n",
              "    <tr>\n",
              "      <th>91023</th>\n",
              "      <td>0.675293</td>\n",
              "      <td>0.513672</td>\n",
              "      <td>-0.014160</td>\n",
              "      <td>0</td>\n",
              "    </tr>\n",
              "    <tr>\n",
              "      <th>91024</th>\n",
              "      <td>0.770020</td>\n",
              "      <td>0.625000</td>\n",
              "      <td>-0.142090</td>\n",
              "      <td>0</td>\n",
              "    </tr>\n",
              "  </tbody>\n",
              "</table>\n",
              "<p>91025 rows × 4 columns</p>\n",
              "</div>\n",
              "      <button class=\"colab-df-convert\" onclick=\"convertToInteractive('df-a32ba80f-beaa-4582-9056-49d0e01764aa')\"\n",
              "              title=\"Convert this dataframe to an interactive table.\"\n",
              "              style=\"display:none;\">\n",
              "        \n",
              "  <svg xmlns=\"http://www.w3.org/2000/svg\" height=\"24px\"viewBox=\"0 0 24 24\"\n",
              "       width=\"24px\">\n",
              "    <path d=\"M0 0h24v24H0V0z\" fill=\"none\"/>\n",
              "    <path d=\"M18.56 5.44l.94 2.06.94-2.06 2.06-.94-2.06-.94-.94-2.06-.94 2.06-2.06.94zm-11 1L8.5 8.5l.94-2.06 2.06-.94-2.06-.94L8.5 2.5l-.94 2.06-2.06.94zm10 10l.94 2.06.94-2.06 2.06-.94-2.06-.94-.94-2.06-.94 2.06-2.06.94z\"/><path d=\"M17.41 7.96l-1.37-1.37c-.4-.4-.92-.59-1.43-.59-.52 0-1.04.2-1.43.59L10.3 9.45l-7.72 7.72c-.78.78-.78 2.05 0 2.83L4 21.41c.39.39.9.59 1.41.59.51 0 1.02-.2 1.41-.59l7.78-7.78 2.81-2.81c.8-.78.8-2.07 0-2.86zM5.41 20L4 18.59l7.72-7.72 1.47 1.35L5.41 20z\"/>\n",
              "  </svg>\n",
              "      </button>\n",
              "      \n",
              "  <style>\n",
              "    .colab-df-container {\n",
              "      display:flex;\n",
              "      flex-wrap:wrap;\n",
              "      gap: 12px;\n",
              "    }\n",
              "\n",
              "    .colab-df-convert {\n",
              "      background-color: #E8F0FE;\n",
              "      border: none;\n",
              "      border-radius: 50%;\n",
              "      cursor: pointer;\n",
              "      display: none;\n",
              "      fill: #1967D2;\n",
              "      height: 32px;\n",
              "      padding: 0 0 0 0;\n",
              "      width: 32px;\n",
              "    }\n",
              "\n",
              "    .colab-df-convert:hover {\n",
              "      background-color: #E2EBFA;\n",
              "      box-shadow: 0px 1px 2px rgba(60, 64, 67, 0.3), 0px 1px 3px 1px rgba(60, 64, 67, 0.15);\n",
              "      fill: #174EA6;\n",
              "    }\n",
              "\n",
              "    [theme=dark] .colab-df-convert {\n",
              "      background-color: #3B4455;\n",
              "      fill: #D2E3FC;\n",
              "    }\n",
              "\n",
              "    [theme=dark] .colab-df-convert:hover {\n",
              "      background-color: #434B5C;\n",
              "      box-shadow: 0px 1px 3px 1px rgba(0, 0, 0, 0.15);\n",
              "      filter: drop-shadow(0px 1px 2px rgba(0, 0, 0, 0.3));\n",
              "      fill: #FFFFFF;\n",
              "    }\n",
              "  </style>\n",
              "\n",
              "      <script>\n",
              "        const buttonEl =\n",
              "          document.querySelector('#df-a32ba80f-beaa-4582-9056-49d0e01764aa button.colab-df-convert');\n",
              "        buttonEl.style.display =\n",
              "          google.colab.kernel.accessAllowed ? 'block' : 'none';\n",
              "\n",
              "        async function convertToInteractive(key) {\n",
              "          const element = document.querySelector('#df-a32ba80f-beaa-4582-9056-49d0e01764aa');\n",
              "          const dataTable =\n",
              "            await google.colab.kernel.invokeFunction('convertToInteractive',\n",
              "                                                     [key], {});\n",
              "          if (!dataTable) return;\n",
              "\n",
              "          const docLinkHtml = 'Like what you see? Visit the ' +\n",
              "            '<a target=\"_blank\" href=https://colab.research.google.com/notebooks/data_table.ipynb>data table notebook</a>'\n",
              "            + ' to learn more about interactive tables.';\n",
              "          element.innerHTML = '';\n",
              "          dataTable['output_type'] = 'display_data';\n",
              "          await google.colab.output.renderOutput(dataTable, element);\n",
              "          const docLink = document.createElement('div');\n",
              "          docLink.innerHTML = docLinkHtml;\n",
              "          element.appendChild(docLink);\n",
              "        }\n",
              "      </script>\n",
              "    </div>\n",
              "  </div>\n",
              "  "
            ]
          },
          "metadata": {},
          "execution_count": 134
        }
      ]
    },
    {
      "cell_type": "markdown",
      "metadata": {
        "id": "gGNmAHGY9gaK"
      },
      "source": [
        "## Preprecessing\n",
        "\n",
        "- sliding window size of 40\n",
        "- if data contains all fall samples(25 samples) then, label as 'FALL'\n",
        "- unless, it's all labelled as 'ADL'"
      ]
    },
    {
      "cell_type": "code",
      "execution_count": 104,
      "metadata": {
        "ExecuteTime": {
          "end_time": "2020-07-28T10:31:06.773038Z",
          "start_time": "2020-07-28T10:30:37.415715Z"
        },
        "id": "kZ7w7ryS9gaL",
        "outputId": "68901836-d6e0-4fdd-8632-27f04c0d6c5f",
        "colab": {
          "referenced_widgets": [
            "93c520b967f4419a81be2a21e1772cbc",
            "9bd02f2706f84f9685772e45d898984f",
            "3283b338256b4ee58979b37faa0f637e",
            "60577e475e8e4ff198f327555121667b",
            "ae7104b2d6474fd3a5f68481dfbdddbf",
            "870e6ee440a84732a42d5c629b0de673",
            "5a84e5ffd5d346e4b06ccdcccb48d74f",
            "2ebbb8e7ef304f968e95a8162a05df72",
            "197488acc3994ad7a8e24023b5197324",
            "21d5cfe36d04455682a38b1ff521cbe8",
            "bf3394b070044a90aaf0283b4ef678a8"
          ],
          "base_uri": "https://localhost:8080/",
          "height": 104
        }
      },
      "outputs": [
        {
          "output_type": "stream",
          "name": "stderr",
          "text": [
            "<ipython-input-104-908304e4b4a9>:4: TqdmDeprecationWarning: This function will be removed in tqdm==5.0.0\n",
            "Please use `tqdm.notebook.tqdm` instead of `tqdm.tqdm_notebook`\n",
            "  for i in tqdm(range(0, len(train)-n)):\n"
          ]
        },
        {
          "output_type": "display_data",
          "data": {
            "text/plain": [
              "  0%|          | 0/92681 [00:00<?, ?it/s]"
            ],
            "application/vnd.jupyter.widget-view+json": {
              "version_major": 2,
              "version_minor": 0,
              "model_id": "93c520b967f4419a81be2a21e1772cbc"
            }
          },
          "metadata": {}
        }
      ],
      "source": [
        "n = 100\n",
        "X_train, y_train = list(), list()\n",
        "\n",
        "for i in tqdm(range(0, len(train)-n)):\n",
        "    temp = list()\n",
        "    \n",
        "    temp.append(train[' ms_accelerometer_x'][i : i + n])\n",
        "    temp.append(train[' ms_accelerometer_y'][i : i + n])\n",
        "    temp.append(train[' ms_accelerometer_z'][i : i + n])\n",
        "    \n",
        "    cnt = collections.Counter(train['outcome'][i: i + n])\n",
        "    num_adl = cnt[0]\n",
        "    num_fall = cnt[1]\n",
        "    \n",
        "    if num_fall == 30:\n",
        "        y_train.append(1)\n",
        "    else:\n",
        "        y_train.append(0)\n",
        "    \n",
        "    X_train.append(temp)"
      ]
    },
    {
      "cell_type": "code",
      "execution_count": 131,
      "metadata": {
        "ExecuteTime": {
          "end_time": "2020-07-28T10:33:49.234112Z",
          "start_time": "2020-07-28T10:33:20.713591Z"
        },
        "id": "zPSSTBk19gaM",
        "outputId": "c476e932-0e4e-4343-8b0b-fa16ce1cfc6d",
        "colab": {
          "referenced_widgets": [
            "bcf22d4ca40249eeba1fd6c8904e6cd8",
            "face4e3c340b424781850e67a7f24908",
            "9215c242f98c4a7abe539019d8ffd9b7",
            "24ff0d1cf04c4eee9260f65a95dcbd7f",
            "0c815f63b62f4a45b1bacc18895a07d7",
            "b1b6da782d2f4bb8a4b0d2e77513a8fa",
            "0d8d8c83b9854221b7c2ceef6afefbf7",
            "287370dbf9a04b5dbad9751aa4e62e2c",
            "69d00186ad5e432bb7a529a2625cd5eb",
            "05a7bd07b062465ea363cd2a0aafd2c4",
            "b3826a93b4404072949e682dec93292b"
          ],
          "base_uri": "https://localhost:8080/",
          "height": 104
        }
      },
      "outputs": [
        {
          "output_type": "stream",
          "name": "stderr",
          "text": [
            "<ipython-input-131-320528fdc6e1>:3: TqdmDeprecationWarning: This function will be removed in tqdm==5.0.0\n",
            "Please use `tqdm.notebook.tqdm` instead of `tqdm.tqdm_notebook`\n",
            "  for i in tqdm(range(0, len(test) - n)):\n"
          ]
        },
        {
          "output_type": "display_data",
          "data": {
            "text/plain": [
              "  0%|          | 0/90925 [00:00<?, ?it/s]"
            ],
            "application/vnd.jupyter.widget-view+json": {
              "version_major": 2,
              "version_minor": 0,
              "model_id": "bcf22d4ca40249eeba1fd6c8904e6cd8"
            }
          },
          "metadata": {}
        }
      ],
      "source": [
        "n = 100\n",
        "X_test_adl, X_test_fall, y_test_adl, y_test_fall = list(), list(), list(), list()\n",
        "for i in tqdm(range(0, len(test) - n)):\n",
        "    temp = list()\n",
        "    \n",
        "    temp.append(test[' ms_accelerometer_x'][i : i + n])\n",
        "    temp.append(test[' ms_accelerometer_y'][i : i + n])\n",
        "    temp.append(test[' ms_accelerometer_z'][i : i + n])\n",
        "    \n",
        "    cnt = collections.Counter(test['outcome'][i : i + n])\n",
        "    num_adl = cnt[0]\n",
        "    num_fall = cnt[1]\n",
        "    \n",
        "    if num_fall == 25:\n",
        "        y_test_fall.append(1)\n",
        "        X_test_fall.append(temp)\n",
        "    else:\n",
        "        y_test_adl.append(0)\n",
        "        X_test_adl.append(temp)"
      ]
    },
    {
      "cell_type": "code",
      "execution_count": 132,
      "metadata": {
        "ExecuteTime": {
          "end_time": "2020-07-28T10:33:52.059775Z",
          "start_time": "2020-07-28T10:33:52.052917Z"
        },
        "id": "Cs8SVkny9gaM",
        "outputId": "aa247f91-0282-43ea-f049-c98d05710b79",
        "colab": {
          "base_uri": "https://localhost:8080/"
        }
      },
      "outputs": [
        {
          "output_type": "stream",
          "name": "stdout",
          "text": [
            "15224\n",
            "75701\n"
          ]
        }
      ],
      "source": [
        "print(len(y_test_fall))\n",
        "print(len(y_test_adl))"
      ]
    },
    {
      "cell_type": "code",
      "execution_count": 107,
      "metadata": {
        "ExecuteTime": {
          "end_time": "2020-07-28T10:34:15.323838Z",
          "start_time": "2020-07-28T10:34:15.078385Z"
        },
        "id": "z2DD3K7X9gaM"
      },
      "outputs": [],
      "source": [
        "# to keep the balance between ADL and FALL data, used only part of ADL data\n",
        "\n",
        "X_test_adl = X_test_adl[:3216]\n",
        "y_test_adl = y_test_adl[:3216]\n",
        "\n",
        "y_test = y_test_adl + y_test_fall\n",
        "X_test = X_test_adl + X_test_fall\n",
        "\n",
        "X_train = X_train + X_test\n",
        "y_train = y_train + y_test"
      ]
    },
    {
      "cell_type": "code",
      "execution_count": 108,
      "metadata": {
        "ExecuteTime": {
          "end_time": "2020-07-28T10:34:43.212536Z",
          "start_time": "2020-07-28T10:34:43.202680Z"
        },
        "id": "iV1Qz1GY9gaN",
        "outputId": "264c65f4-5bc7-4b3a-be7a-32dcb35b0212",
        "colab": {
          "base_uri": "https://localhost:8080/"
        }
      },
      "outputs": [
        {
          "output_type": "stream",
          "name": "stdout",
          "text": [
            "length of test data 18440\n"
          ]
        }
      ],
      "source": [
        "print('length of test data', len(X_test))"
      ]
    },
    {
      "cell_type": "code",
      "execution_count": 109,
      "metadata": {
        "ExecuteTime": {
          "end_time": "2020-07-28T10:34:59.594029Z",
          "start_time": "2020-07-28T10:34:59.580077Z"
        },
        "id": "rhIHVSsd9gaN",
        "outputId": "a9069538-999e-4727-d975-f5b38b900e94",
        "colab": {
          "base_uri": "https://localhost:8080/"
        }
      },
      "outputs": [
        {
          "output_type": "stream",
          "name": "stdout",
          "text": [
            "train data adl and fall ratio\n",
            "--------------------------------\n",
            "train data adl ratio:  71165\n",
            "train data fall ratio:  39956\n",
            "--------------------------------\n",
            "test data adl ratio:  3216\n",
            "test data fall ratio:  15224\n"
          ]
        }
      ],
      "source": [
        "print('train data adl and fall ratio')\n",
        "print('--------------------------------')\n",
        "cnt_train = collections.Counter(y_train)\n",
        "print('train data adl ratio: ', cnt_train[0])\n",
        "print('train data fall ratio: ', cnt_train[1])\n",
        "print('--------------------------------')\n",
        "\n",
        "cnt_test = collections.Counter(y_test)\n",
        "print('test data adl ratio: ', cnt_test[0])\n",
        "print('test data fall ratio: ', cnt_test[1])"
      ]
    },
    {
      "cell_type": "markdown",
      "metadata": {
        "id": "AIdUR5579gaO"
      },
      "source": [
        "## CNN/DENSE model declaration \n"
      ]
    },
    {
      "cell_type": "code",
      "source": [
        "# from tensorflow.keras.layers import Input, Flatten, Conv1D, Embedding, Bidirectional, Dense\n",
        "\n",
        "# model = keras.Sequential()\n",
        "\n",
        "# input_shape=(128,40,3)\n",
        "# # encoder\n",
        "# model.add(Input(shape=input_shape[1:]))\n",
        "# model.add(Flatten())\n",
        "# model.add(Dense(20, input_shape = (256,), activation = 'relu'))\n",
        "# model.add(Dense(15, activation = 'relu'))\n",
        "# model.add(Dense(10, activation = 'relu'))\n",
        "\n",
        "# # binary classifier as decoder\n",
        "# model.add(Dense(name='classifier', units=1, activation='sigmoid'))\n",
        "\n",
        "# model.compile(optimizer='adam', loss='binary_crossentropy', metrics=['accuracy'])\n",
        "\n",
        "# model.summary()"
      ],
      "metadata": {
        "id": "3-zuFCxh2rob"
      },
      "execution_count": 92,
      "outputs": []
    },
    {
      "cell_type": "code",
      "source": [
        "from tensorflow.keras.layers import Input, Conv1D, MaxPooling1D, Flatten, Dense, Reshape\n",
        "\n",
        "model = keras.Sequential()\n",
        "\n",
        "# encoder\n",
        "model.add(Input(shape=(n, 3)))\n",
        "model.add(Conv1D(filters=64, kernel_size=3, activation='relu', padding='same'))\n",
        "model.add(Conv1D(filters=64, kernel_size=3, activation='relu', padding='same'))\n",
        "model.add(MaxPooling1D(pool_size=2, padding='same'))\n",
        "model.add(Conv1D(filters=32, kernel_size=3, activation='relu', padding='same'))\n",
        "model.add(Conv1D(filters=32, kernel_size=3, activation='relu', padding='same'))\n",
        "model.add(MaxPooling1D(pool_size=2, padding='same'))\n",
        "model.add(Conv1D(filters=32, kernel_size=3, activation='relu', padding='same'))\n",
        "model.add(Conv1D(filters=32, kernel_size=3, activation='relu', padding='same'))\n",
        "model.add(MaxPooling1D(pool_size=2, padding='same'))\n",
        "model.add(Flatten())\n",
        "model.add(Dense(units=20, activation='relu'))\n",
        "model.add(Dense(units=15, activation='relu'))\n",
        "model.add(Dense(units=10, activation='relu'))\n",
        "\n",
        "# binary classifier as decoder\n",
        "model.add(Dense(units=1, activation='sigmoid', name='classifier'))\n",
        "\n",
        "#model.compile(optimizer='adam', loss='binary_crossentropy', metrics=['accuracy'])\n",
        "\n",
        "model.summary()"
      ],
      "metadata": {
        "colab": {
          "base_uri": "https://localhost:8080/"
        },
        "id": "S0xDQZnarwyU",
        "outputId": "84d8c75b-990e-4bbc-fc3f-d693f90bc4e4"
      },
      "execution_count": 117,
      "outputs": [
        {
          "output_type": "stream",
          "name": "stdout",
          "text": [
            "Model: \"sequential_7\"\n",
            "_________________________________________________________________\n",
            " Layer (type)                Output Shape              Param #   \n",
            "=================================================================\n",
            " conv1d_34 (Conv1D)          (None, 100, 64)           640       \n",
            "                                                                 \n",
            " conv1d_35 (Conv1D)          (None, 100, 64)           12352     \n",
            "                                                                 \n",
            " max_pooling1d_19 (MaxPoolin  (None, 50, 64)           0         \n",
            " g1D)                                                            \n",
            "                                                                 \n",
            " conv1d_36 (Conv1D)          (None, 50, 32)            6176      \n",
            "                                                                 \n",
            " conv1d_37 (Conv1D)          (None, 50, 32)            3104      \n",
            "                                                                 \n",
            " max_pooling1d_20 (MaxPoolin  (None, 25, 32)           0         \n",
            " g1D)                                                            \n",
            "                                                                 \n",
            " conv1d_38 (Conv1D)          (None, 25, 32)            3104      \n",
            "                                                                 \n",
            " conv1d_39 (Conv1D)          (None, 25, 32)            3104      \n",
            "                                                                 \n",
            " max_pooling1d_21 (MaxPoolin  (None, 13, 32)           0         \n",
            " g1D)                                                            \n",
            "                                                                 \n",
            " flatten_7 (Flatten)         (None, 416)               0         \n",
            "                                                                 \n",
            " dense_21 (Dense)            (None, 20)                8340      \n",
            "                                                                 \n",
            " dense_22 (Dense)            (None, 15)                315       \n",
            "                                                                 \n",
            " dense_23 (Dense)            (None, 10)                160       \n",
            "                                                                 \n",
            " classifier (Dense)          (None, 1)                 11        \n",
            "                                                                 \n",
            "=================================================================\n",
            "Total params: 37,306\n",
            "Trainable params: 37,306\n",
            "Non-trainable params: 0\n",
            "_________________________________________________________________\n"
          ]
        }
      ]
    },
    {
      "cell_type": "markdown",
      "metadata": {
        "id": "H5Q-t36b9gaO"
      },
      "source": [
        "## Preparing datasets"
      ]
    },
    {
      "cell_type": "code",
      "execution_count": 118,
      "metadata": {
        "ExecuteTime": {
          "end_time": "2020-07-28T10:40:23.899605Z",
          "start_time": "2020-07-28T10:40:06.398708Z"
        },
        "id": "mpJyhlhD9gaP"
      },
      "outputs": [],
      "source": [
        "X_train = np.asarray(X_train).reshape(-1, n, 3)\n",
        "y_train = np.asarray(y_train).reshape(-1, )\n",
        "\n",
        "X_test = np.asarray(X_test).reshape(-1, n, 3)\n",
        "y_test = np.asarray(y_test).reshape(-1, )"
      ]
    },
    {
      "cell_type": "code",
      "execution_count": 119,
      "metadata": {
        "ExecuteTime": {
          "end_time": "2020-07-28T10:40:23.909096Z",
          "start_time": "2020-07-28T10:40:23.901300Z"
        },
        "id": "-9lRg4dY9gaP"
      },
      "outputs": [],
      "source": [
        "from sklearn.preprocessing import LabelEncoder\n",
        "enc = LabelEncoder()\n",
        "\n",
        "# y_train = enc.fit_transform(y_train)\n",
        "# y_test = enc.fit_transform(y_test)"
      ]
    },
    {
      "cell_type": "code",
      "execution_count": 120,
      "metadata": {
        "ExecuteTime": {
          "end_time": "2020-07-28T10:40:23.982434Z",
          "start_time": "2020-07-28T10:40:23.911036Z"
        },
        "id": "T6DRbPHt9gaP"
      },
      "outputs": [],
      "source": [
        "#X_train, X_valid, y_train, y_valid = train_test_split(X_train, y_train, test_size=0.1)"
      ]
    },
    {
      "cell_type": "code",
      "execution_count": 121,
      "metadata": {
        "ExecuteTime": {
          "end_time": "2020-07-28T10:40:32.576125Z",
          "start_time": "2020-07-28T10:40:32.566613Z"
        },
        "id": "IqFEWTV69gaP"
      },
      "outputs": [],
      "source": [
        "batch_size = 128\n",
        "\n",
        "train_data = tf.data.Dataset.from_tensor_slices((tf.convert_to_tensor(X_train), tf.convert_to_tensor(y_train)))\n",
        "train_loader = train_data.shuffle(buffer_size=len(train_data)).batch(batch_size)\n",
        "\n",
        "# valid_data = tf.data.Dataset.from_tensor_slices((tf.convert_to_tensor(X_valid), tf.convert_to_tensor(y_valid)))\n",
        "# valid_loader = valid_data.shuffle(buffer_size=len(valid_data)).batch(batch_size)\n",
        "\n",
        "test_data = tf.data.Dataset.from_tensor_slices((tf.convert_to_tensor(X_test), tf.convert_to_tensor(y_test)))\n",
        "test_loader = test_data.shuffle(buffer_size=len(test_data)).batch(batch_size)\n"
      ]
    },
    {
      "cell_type": "markdown",
      "metadata": {
        "id": "56vriT_-9gaP"
      },
      "source": [
        "## Model training"
      ]
    },
    {
      "cell_type": "code",
      "execution_count": 122,
      "metadata": {
        "ExecuteTime": {
          "end_time": "2020-07-28T10:48:41.930197Z",
          "start_time": "2020-07-28T10:48:41.898982Z"
        },
        "id": "nEAytbfS9gaP"
      },
      "outputs": [],
      "source": [
        "input_dim = train_loader.element_spec[0].shape[2]\n",
        "output_dim = 2\n",
        "n_layers = 2\n",
        "hidden_dim = 256\n",
        "\n",
        "lr = 0.0001\n",
        "n_epochs = 40\n",
        "iterations_per_epoch = len(train_loader)\n",
        "best_acc = 0.\n",
        "patience, trials = 15, 0\n",
        "\n",
        "criterion = tf.keras.losses.BinaryCrossentropy()\n",
        "lr_schedule = tf.keras.experimental.CosineDecayRestarts(initial_learning_rate=lr, first_decay_steps=iterations_per_epoch * 2)\n",
        "optimizer = tf.keras.optimizers.Adam(learning_rate=lr_schedule)\n",
        "epoch_times = []\n"
      ]
    },
    {
      "cell_type": "code",
      "source": [
        "model.compile(optimizer, criterion,metrics=['accuracy'])"
      ],
      "metadata": {
        "id": "rG7H14ns5PWs"
      },
      "execution_count": 123,
      "outputs": []
    },
    {
      "cell_type": "code",
      "source": [
        "%time history = model.fit(X_train, y_train, epochs=10, batch_size=batch_size, validation_split=0.2)"
      ],
      "metadata": {
        "colab": {
          "base_uri": "https://localhost:8080/"
        },
        "id": "793YY4Qh4R_1",
        "outputId": "5171fba9-d051-41ea-f26b-e39009b51118"
      },
      "execution_count": 124,
      "outputs": [
        {
          "output_type": "stream",
          "name": "stdout",
          "text": [
            "Epoch 1/10\n",
            "695/695 [==============================] - 27s 36ms/step - loss: 0.2741 - accuracy: 0.8849 - val_loss: 0.1552 - val_accuracy: 0.9430\n",
            "Epoch 2/10\n",
            "695/695 [==============================] - 24s 34ms/step - loss: 0.1275 - accuracy: 0.9530 - val_loss: 0.1322 - val_accuracy: 0.9568\n",
            "Epoch 3/10\n",
            "695/695 [==============================] - 24s 35ms/step - loss: 0.1185 - accuracy: 0.9572 - val_loss: 0.1358 - val_accuracy: 0.9576\n",
            "Epoch 4/10\n",
            "695/695 [==============================] - 24s 35ms/step - loss: 0.0989 - accuracy: 0.9661 - val_loss: 0.1828 - val_accuracy: 0.9283\n",
            "Epoch 5/10\n",
            "695/695 [==============================] - 24s 34ms/step - loss: 0.0847 - accuracy: 0.9713 - val_loss: 0.2081 - val_accuracy: 0.9195\n",
            "Epoch 6/10\n",
            "695/695 [==============================] - 24s 35ms/step - loss: 0.0770 - accuracy: 0.9743 - val_loss: 0.1518 - val_accuracy: 0.9470\n",
            "Epoch 7/10\n",
            "695/695 [==============================] - 24s 35ms/step - loss: 0.0736 - accuracy: 0.9753 - val_loss: 0.1548 - val_accuracy: 0.9443\n",
            "Epoch 8/10\n",
            "695/695 [==============================] - 24s 35ms/step - loss: 0.0739 - accuracy: 0.9753 - val_loss: 0.1365 - val_accuracy: 0.9559\n",
            "Epoch 9/10\n",
            "695/695 [==============================] - 24s 35ms/step - loss: 0.0690 - accuracy: 0.9767 - val_loss: 0.1133 - val_accuracy: 0.9655\n",
            "Epoch 10/10\n",
            "695/695 [==============================] - 24s 35ms/step - loss: 0.0615 - accuracy: 0.9792 - val_loss: 0.1283 - val_accuracy: 0.9606\n",
            "CPU times: user 10min 52s, sys: 27.5 s, total: 11min 19s\n",
            "Wall time: 4min 23s\n"
          ]
        }
      ]
    },
    {
      "cell_type": "code",
      "source": [
        "test_loss, test_accuracy = model.evaluate(test_loader, batch_size=batch_size)\n",
        "test_accuracy"
      ],
      "metadata": {
        "colab": {
          "base_uri": "https://localhost:8080/"
        },
        "id": "7pnAh-xFFNyt",
        "outputId": "26ba6fb5-8ed9-4195-b91a-6061e82b8e65"
      },
      "execution_count": 125,
      "outputs": [
        {
          "output_type": "stream",
          "name": "stdout",
          "text": [
            "145/145 [==============================] - 2s 10ms/step - loss: 0.1451 - accuracy: 0.9560\n"
          ]
        },
        {
          "output_type": "execute_result",
          "data": {
            "text/plain": [
              "0.9560195207595825"
            ]
          },
          "metadata": {},
          "execution_count": 125
        }
      ]
    },
    {
      "cell_type": "code",
      "execution_count": 102,
      "metadata": {
        "ExecuteTime": {
          "end_time": "2020-07-28T10:54:37.562768Z",
          "start_time": "2020-07-28T10:48:42.417547Z"
        },
        "id": "MTTBt6bI9gaQ",
        "outputId": "d05984ad-c807-4c10-88e8-5e2281323e44",
        "colab": {
          "base_uri": "https://localhost:8080/",
          "height": 461
        }
      },
      "outputs": [
        {
          "output_type": "display_data",
          "data": {
            "text/plain": [
              "<Figure size 2000x500 with 1 Axes>"
            ],
            "image/png": "[encoded data removed]"
          },
          "metadata": {}
        }
      ],
      "source": [
        "def plot_history(history, samples=10, init_phase_samples=None):\n",
        "    epochs = history.params['epochs']\n",
        "    \n",
        "    acc = history.history['accuracy']\n",
        "    val_acc = history.history['val_accuracy']\n",
        "\n",
        "    every_sample =  int(epochs / samples)\n",
        "    acc = pd.DataFrame(acc).iloc[::every_sample, :]\n",
        "    val_acc = pd.DataFrame(val_acc).iloc[::every_sample, :]\n",
        "\n",
        "    fig, ax = plt.subplots(figsize=(20,5))\n",
        "\n",
        "    ax.plot(acc, 'bo', label='Training acc')\n",
        "    ax.plot(val_acc, 'b', label='Validation acc')\n",
        "    ax.set_title('Training and validation accuracy')\n",
        "    ax.legend()\n",
        "\n",
        "plot_history(history)"
      ]
    },
    {
      "cell_type": "code",
      "execution_count": null,
      "metadata": {
        "ExecuteTime": {
          "end_time": "2020-07-28T10:54:37.883189Z",
          "start_time": "2020-07-28T10:54:37.684430Z"
        },
        "id": "xI0SgD3B9gaQ"
      },
      "outputs": [],
      "source": []
    },
    {
      "cell_type": "code",
      "source": [
        "model.save('model.h5')\n",
        "loaded_model = keras.models.load_model('model.h5')\n",
        "result = loaded_model(tf.random.uniform((1,40,3))).numpy()\n",
        "result"
      ],
      "metadata": {
        "colab": {
          "base_uri": "https://localhost:8080/"
        },
        "id": "LiteZG5UGgtU",
        "outputId": "e6a3466d-3f4d-4b2b-a7bb-0dd38acce3df"
      },
      "execution_count": 72,
      "outputs": [
        {
          "output_type": "execute_result",
          "data": {
            "text/plain": [
              "array([[5.4317474e-11]], dtype=float32)"
            ]
          },
          "metadata": {},
          "execution_count": 72
        }
      ]
    },
    {
      "cell_type": "code",
      "source": [
        "from tensorflow import lite\n",
        "\n",
        "converter = lite.TFLiteConverter.from_keras_model(loaded_model)\n",
        "\n",
        "converter._experimental_default_to_single_batch_in_tensor_list_ops = True\n",
        "\n",
        "converter.optimizations = [tf.lite.Optimize.DEFAULT]\n",
        "converter.experimental_new_converter=True\n",
        "converter.target_spec.supported_ops = [tf.lite.OpsSet.TFLITE_BUILTINS, tf.lite.OpsSet.SELECT_TF_OPS] \n",
        "\n",
        "tfmodel = converter.convert()\n",
        "open('model.tflite', 'wb').write(tfmodel)"
      ],
      "metadata": {
        "id": "jlW1sKoiPNOA",
        "colab": {
          "base_uri": "https://localhost:8080/"
        },
        "outputId": "a2ece535-80d1-4623-d995-9a95ff9c4f25"
      },
      "execution_count": 73,
      "outputs": [
        {
          "output_type": "stream",
          "name": "stderr",
          "text": [
            "WARNING:absl:Found untraced functions such as _jit_compiled_convolution_op, _jit_compiled_convolution_op, _jit_compiled_convolution_op, _jit_compiled_convolution_op, _jit_compiled_convolution_op while saving (showing 5 of 7). These functions will not be directly callable after loading.\n"
          ]
        },
        {
          "output_type": "execute_result",
          "data": {
            "text/plain": [
              "49808"
            ]
          },
          "metadata": {},
          "execution_count": 73
        }
      ]
    },
    {
      "cell_type": "code",
      "source": [],
      "metadata": {
        "id": "cIsygEuVw6gp"
      },
      "execution_count": null,
      "outputs": []
    },
    {
      "cell_type": "code",
      "source": [
        "# run_model = tf.function(lambda x: model(x))\n",
        "# # This is important, let's fix the input size.\n",
        "# BATCH_SIZE = 1\n",
        "# STEPS = 40\n",
        "# INPUT_SIZE = 3\n",
        "# concrete_func = run_model.get_concrete_function(\n",
        "#     tf.TensorSpec([BATCH_SIZE, STEPS, INPUT_SIZE], model.inputs[0].dtype))\n",
        "\n",
        "# # model directory.\n",
        "# MODEL_DIR = \"keras_lstm\"\n",
        "# model.save(MODEL_DIR, save_format=\"tf\", signatures=concrete_func)\n",
        "\n",
        "# converter = tf.lite.TFLiteConverter.from_saved_model(MODEL_DIR)\n",
        "# tflite_model = converter.convert()\n",
        "# open('model1.tflite', 'wb').write(tfmodel)"
      ],
      "metadata": {
        "id": "t-WDcZHnU56X"
      },
      "execution_count": null,
      "outputs": []
    },
    {
      "cell_type": "code",
      "source": [],
      "metadata": {
        "id": "8sig19CzOMZD"
      },
      "execution_count": null,
      "outputs": []
    },
    {
      "cell_type": "code",
      "source": [
        "import numpy as np\n",
        "import tensorflow as tf\n",
        "\n",
        "# Load the TFLite model\n",
        "interpreter = tf.lite.Interpreter(model_path=\"model1.tflite\")\n",
        "interpreter.allocate_tensors()\n",
        "\n",
        "# Get input and output details\n",
        "input_details = interpreter.get_input_details()\n",
        "output_details = interpreter.get_output_details()\n",
        "\n",
        "# Prepare input data\n",
        "input_shape = input_details[0]['shape']\n",
        "input_data = np.array(np.random.random_sample(input_shape), dtype=np.float32)\n",
        "\n",
        "# Set input data\n",
        "interpreter.set_tensor(input_details[0]['index'], input_data)\n",
        "\n",
        "# Run inference\n",
        "interpreter.invoke()\n",
        "\n",
        "# Get output data\n",
        "output_data = interpreter.get_tensor(output_details[0]['index'])\n"
      ],
      "metadata": {
        "id": "w_L1M07zwcmr"
      },
      "execution_count": null,
      "outputs": []
    },
    {
      "cell_type": "code",
      "source": [
        "output_details"
      ],
      "metadata": {
        "colab": {
          "base_uri": "https://localhost:8080/"
        },
        "id": "ZkIhe_4wXTWc",
        "outputId": "1be26072-6a60-4210-9f8c-03557c6e978b"
      },
      "execution_count": null,
      "outputs": [
        {
          "output_type": "execute_result",
          "data": {
            "text/plain": [
              "[{'name': 'StatefulPartitionedCall:0',\n",
              "  'index': 34,\n",
              "  'shape': array([1, 1], dtype=int32),\n",
              "  'shape_signature': array([-1,  1], dtype=int32),\n",
              "  'dtype': numpy.float32,\n",
              "  'quantization': (0.0, 0),\n",
              "  'quantization_parameters': {'scales': array([], dtype=float32),\n",
              "   'zero_points': array([], dtype=int32),\n",
              "   'quantized_dimension': 0},\n",
              "  'sparsity_parameters': {}}]"
            ]
          },
          "metadata": {},
          "execution_count": 112
        }
      ]
    },
    {
      "cell_type": "code",
      "source": [],
      "metadata": {
        "id": "zxsroxZzweK9"
      },
      "execution_count": null,
      "outputs": []
    }
  ],
  "metadata": {
    "kernelspec": {
      "display_name": "Python 3",
      "language": "python",
      "name": "python3"
    },
    "language_info": {
      "codemirror_mode": {
        "name": "ipython",
        "version": 3
      },
      "file_extension": ".py",
      "mimetype": "text/x-python",
      "name": "python",
      "nbconvert_exporter": "python",
      "pygments_lexer": "ipython3",
      "version": "3.7.6"
    },
    "toc": {
      "base_numbering": 1,
      "nav_menu": {},
      "number_sections": false,
      "sideBar": true,
      "skip_h1_title": false,
      "title_cell": "Table of Contents",
      "title_sidebar": "Contents",
      "toc_cell": false,
      "toc_position": {},
      "toc_section_display": true,
      "toc_window_display": false
    },
    "colab": {
      "provenance": [],
      "machine_shape": "hm",
      "gpuType": "V100"
    },
    "gpuClass": "standard",
    "widgets": {
      "application/vnd.jupyter.widget-state+json": {
        "93c520b967f4419a81be2a21e1772cbc": {
          "model_module": "@jupyter-widgets/controls",
          "model_name": "HBoxModel",
          "model_module_version": "1.5.0",
          "state": {
            "_dom_classes": [],
            "_model_module": "@jupyter-widgets/controls",
            "_model_module_version": "1.5.0",
            "_model_name": "HBoxModel",
            "_view_count": null,
            "_view_module": "@jupyter-widgets/controls",
            "_view_module_version": "1.5.0",
            "_view_name": "HBoxView",
            "box_style": "",
            "children": [
              "IPY_MODEL_9bd02f2706f84f9685772e45d898984f",
              "IPY_MODEL_3283b338256b4ee58979b37faa0f637e",
              "IPY_MODEL_60577e475e8e4ff198f327555121667b"
            ],
            "layout": "IPY_MODEL_ae7104b2d6474fd3a5f68481dfbdddbf"
          }
        },
        "9bd02f2706f84f9685772e45d898984f": {
          "model_module": "@jupyter-widgets/controls",
          "model_name": "HTMLModel",
          "model_module_version": "1.5.0",
          "state": {
            "_dom_classes": [],
            "_model_module": "@jupyter-widgets/controls",
            "_model_module_version": "1.5.0",
            "_model_name": "HTMLModel",
            "_view_count": null,
            "_view_module": "@jupyter-widgets/controls",
            "_view_module_version": "1.5.0",
            "_view_name": "HTMLView",
            "description": "",
            "description_tooltip": null,
            "layout": "IPY_MODEL_870e6ee440a84732a42d5c629b0de673",
            "placeholder": "​",
            "style": "IPY_MODEL_5a84e5ffd5d346e4b06ccdcccb48d74f",
            "value": "100%"
          }
        },
        "3283b338256b4ee58979b37faa0f637e": {
          "model_module": "@jupyter-widgets/controls",
          "model_name": "FloatProgressModel",
          "model_module_version": "1.5.0",
          "state": {
            "_dom_classes": [],
            "_model_module": "@jupyter-widgets/controls",
            "_model_module_version": "1.5.0",
            "_model_name": "FloatProgressModel",
            "_view_count": null,
            "_view_module": "@jupyter-widgets/controls",
            "_view_module_version": "1.5.0",
            "_view_name": "ProgressView",
            "bar_style": "success",
            "description": "",
            "description_tooltip": null,
            "layout": "IPY_MODEL_2ebbb8e7ef304f968e95a8162a05df72",
            "max": 92681,
            "min": 0,
            "orientation": "horizontal",
            "style": "IPY_MODEL_197488acc3994ad7a8e24023b5197324",
            "value": 92681
          }
        },
        "60577e475e8e4ff198f327555121667b": {
          "model_module": "@jupyter-widgets/controls",
          "model_name": "HTMLModel",
          "model_module_version": "1.5.0",
          "state": {
            "_dom_classes": [],
            "_model_module": "@jupyter-widgets/controls",
            "_model_module_version": "1.5.0",
            "_model_name": "HTMLModel",
            "_view_count": null,
            "_view_module": "@jupyter-widgets/controls",
            "_view_module_version": "1.5.0",
            "_view_name": "HTMLView",
            "description": "",
            "description_tooltip": null,
            "layout": "IPY_MODEL_21d5cfe36d04455682a38b1ff521cbe8",
            "placeholder": "​",
            "style": "IPY_MODEL_bf3394b070044a90aaf0283b4ef678a8",
            "value": " 92681/92681 [00:19&lt;00:00, 4537.37it/s]"
          }
        },
        "ae7104b2d6474fd3a5f68481dfbdddbf": {
          "model_module": "@jupyter-widgets/base",
          "model_name": "LayoutModel",
          "model_module_version": "1.2.0",
          "state": {
            "_model_module": "@jupyter-widgets/base",
            "_model_module_version": "1.2.0",
            "_model_name": "LayoutModel",
            "_view_count": null,
            "_view_module": "@jupyter-widgets/base",
            "_view_module_version": "1.2.0",
            "_view_name": "LayoutView",
            "align_content": null,
            "align_items": null,
            "align_self": null,
            "border": null,
            "bottom": null,
            "display": null,
            "flex": null,
            "flex_flow": null,
            "grid_area": null,
            "grid_auto_columns": null,
            "grid_auto_flow": null,
            "grid_auto_rows": null,
            "grid_column": null,
            "grid_gap": null,
            "grid_row": null,
            "grid_template_areas": null,
            "grid_template_columns": null,
            "grid_template_rows": null,
            "height": null,
            "justify_content": null,
            "justify_items": null,
            "left": null,
            "margin": null,
            "max_height": null,
            "max_width": null,
            "min_height": null,
            "min_width": null,
            "object_fit": null,
            "object_position": null,
            "order": null,
            "overflow": null,
            "overflow_x": null,
            "overflow_y": null,
            "padding": null,
            "right": null,
            "top": null,
            "visibility": null,
            "width": null
          }
        },
        "870e6ee440a84732a42d5c629b0de673": {
          "model_module": "@jupyter-widgets/base",
          "model_name": "LayoutModel",
          "model_module_version": "1.2.0",
          "state": {
            "_model_module": "@jupyter-widgets/base",
            "_model_module_version": "1.2.0",
            "_model_name": "LayoutModel",
            "_view_count": null,
            "_view_module": "@jupyter-widgets/base",
            "_view_module_version": "1.2.0",
            "_view_name": "LayoutView",
            "align_content": null,
            "align_items": null,
            "align_self": null,
            "border": null,
            "bottom": null,
            "display": null,
            "flex": null,
            "flex_flow": null,
            "grid_area": null,
            "grid_auto_columns": null,
            "grid_auto_flow": null,
            "grid_auto_rows": null,
            "grid_column": null,
            "grid_gap": null,
            "grid_row": null,
            "grid_template_areas": null,
            "grid_template_columns": null,
            "grid_template_rows": null,
            "height": null,
            "justify_content": null,
            "justify_items": null,
            "left": null,
            "margin": null,
            "max_height": null,
            "max_width": null,
            "min_height": null,
            "min_width": null,
            "object_fit": null,
            "object_position": null,
            "order": null,
            "overflow": null,
            "overflow_x": null,
            "overflow_y": null,
            "padding": null,
            "right": null,
            "top": null,
            "visibility": null,
            "width": null
          }
        },
        "5a84e5ffd5d346e4b06ccdcccb48d74f": {
          "model_module": "@jupyter-widgets/controls",
          "model_name": "DescriptionStyleModel",
          "model_module_version": "1.5.0",
          "state": {
            "_model_module": "@jupyter-widgets/controls",
            "_model_module_version": "1.5.0",
            "_model_name": "DescriptionStyleModel",
            "_view_count": null,
            "_view_module": "@jupyter-widgets/base",
            "_view_module_version": "1.2.0",
            "_view_name": "StyleView",
            "description_width": ""
          }
        },
        "2ebbb8e7ef304f968e95a8162a05df72": {
          "model_module": "@jupyter-widgets/base",
          "model_name": "LayoutModel",
          "model_module_version": "1.2.0",
          "state": {
            "_model_module": "@jupyter-widgets/base",
            "_model_module_version": "1.2.0",
            "_model_name": "LayoutModel",
            "_view_count": null,
            "_view_module": "@jupyter-widgets/base",
            "_view_module_version": "1.2.0",
            "_view_name": "LayoutView",
            "align_content": null,
            "align_items": null,
            "align_self": null,
            "border": null,
            "bottom": null,
            "display": null,
            "flex": null,
            "flex_flow": null,
            "grid_area": null,
            "grid_auto_columns": null,
            "grid_auto_flow": null,
            "grid_auto_rows": null,
            "grid_column": null,
            "grid_gap": null,
            "grid_row": null,
            "grid_template_areas": null,
            "grid_template_columns": null,
            "grid_template_rows": null,
            "height": null,
            "justify_content": null,
            "justify_items": null,
            "left": null,
            "margin": null,
            "max_height": null,
            "max_width": null,
            "min_height": null,
            "min_width": null,
            "object_fit": null,
            "object_position": null,
            "order": null,
            "overflow": null,
            "overflow_x": null,
            "overflow_y": null,
            "padding": null,
            "right": null,
            "top": null,
            "visibility": null,
            "width": null
          }
        },
        "197488acc3994ad7a8e24023b5197324": {
          "model_module": "@jupyter-widgets/controls",
          "model_name": "ProgressStyleModel",
          "model_module_version": "1.5.0",
          "state": {
            "_model_module": "@jupyter-widgets/controls",
            "_model_module_version": "1.5.0",
            "_model_name": "ProgressStyleModel",
            "_view_count": null,
            "_view_module": "@jupyter-widgets/base",
            "_view_module_version": "1.2.0",
            "_view_name": "StyleView",
            "bar_color": null,
            "description_width": ""
          }
        },
        "21d5cfe36d04455682a38b1ff521cbe8": {
          "model_module": "@jupyter-widgets/base",
          "model_name": "LayoutModel",
          "model_module_version": "1.2.0",
          "state": {
            "_model_module": "@jupyter-widgets/base",
            "_model_module_version": "1.2.0",
            "_model_name": "LayoutModel",
            "_view_count": null,
            "_view_module": "@jupyter-widgets/base",
            "_view_module_version": "1.2.0",
            "_view_name": "LayoutView",
            "align_content": null,
            "align_items": null,
            "align_self": null,
            "border": null,
            "bottom": null,
            "display": null,
            "flex": null,
            "flex_flow": null,
            "grid_area": null,
            "grid_auto_columns": null,
            "grid_auto_flow": null,
            "grid_auto_rows": null,
            "grid_column": null,
            "grid_gap": null,
            "grid_row": null,
            "grid_template_areas": null,
            "grid_template_columns": null,
            "grid_template_rows": null,
            "height": null,
            "justify_content": null,
            "justify_items": null,
            "left": null,
            "margin": null,
            "max_height": null,
            "max_width": null,
            "min_height": null,
            "min_width": null,
            "object_fit": null,
            "object_position": null,
            "order": null,
            "overflow": null,
            "overflow_x": null,
            "overflow_y": null,
            "padding": null,
            "right": null,
            "top": null,
            "visibility": null,
            "width": null
          }
        },
        "bf3394b070044a90aaf0283b4ef678a8": {
          "model_module": "@jupyter-widgets/controls",
          "model_name": "DescriptionStyleModel",
          "model_module_version": "1.5.0",
          "state": {
            "_model_module": "@jupyter-widgets/controls",
            "_model_module_version": "1.5.0",
            "_model_name": "DescriptionStyleModel",
            "_view_count": null,
            "_view_module": "@jupyter-widgets/base",
            "_view_module_version": "1.2.0",
            "_view_name": "StyleView",
            "description_width": ""
          }
        },
        "bcf22d4ca40249eeba1fd6c8904e6cd8": {
          "model_module": "@jupyter-widgets/controls",
          "model_name": "HBoxModel",
          "model_module_version": "1.5.0",
          "state": {
            "_dom_classes": [],
            "_model_module": "@jupyter-widgets/controls",
            "_model_module_version": "1.5.0",
            "_model_name": "HBoxModel",
            "_view_count": null,
            "_view_module": "@jupyter-widgets/controls",
            "_view_module_version": "1.5.0",
            "_view_name": "HBoxView",
            "box_style": "",
            "children": [
              "IPY_MODEL_face4e3c340b424781850e67a7f24908",
              "IPY_MODEL_9215c242f98c4a7abe539019d8ffd9b7",
              "IPY_MODEL_24ff0d1cf04c4eee9260f65a95dcbd7f"
            ],
            "layout": "IPY_MODEL_0c815f63b62f4a45b1bacc18895a07d7"
          }
        },
        "face4e3c340b424781850e67a7f24908": {
          "model_module": "@jupyter-widgets/controls",
          "model_name": "HTMLModel",
          "model_module_version": "1.5.0",
          "state": {
            "_dom_classes": [],
            "_model_module": "@jupyter-widgets/controls",
            "_model_module_version": "1.5.0",
            "_model_name": "HTMLModel",
            "_view_count": null,
            "_view_module": "@jupyter-widgets/controls",
            "_view_module_version": "1.5.0",
            "_view_name": "HTMLView",
            "description": "",
            "description_tooltip": null,
            "layout": "IPY_MODEL_b1b6da782d2f4bb8a4b0d2e77513a8fa",
            "placeholder": "​",
            "style": "IPY_MODEL_0d8d8c83b9854221b7c2ceef6afefbf7",
            "value": "100%"
          }
        },
        "9215c242f98c4a7abe539019d8ffd9b7": {
          "model_module": "@jupyter-widgets/controls",
          "model_name": "FloatProgressModel",
          "model_module_version": "1.5.0",
          "state": {
            "_dom_classes": [],
            "_model_module": "@jupyter-widgets/controls",
            "_model_module_version": "1.5.0",
            "_model_name": "FloatProgressModel",
            "_view_count": null,
            "_view_module": "@jupyter-widgets/controls",
            "_view_module_version": "1.5.0",
            "_view_name": "ProgressView",
            "bar_style": "success",
            "description": "",
            "description_tooltip": null,
            "layout": "IPY_MODEL_287370dbf9a04b5dbad9751aa4e62e2c",
            "max": 90925,
            "min": 0,
            "orientation": "horizontal",
            "style": "IPY_MODEL_69d00186ad5e432bb7a529a2625cd5eb",
            "value": 90925
          }
        },
        "24ff0d1cf04c4eee9260f65a95dcbd7f": {
          "model_module": "@jupyter-widgets/controls",
          "model_name": "HTMLModel",
          "model_module_version": "1.5.0",
          "state": {
            "_dom_classes": [],
            "_model_module": "@jupyter-widgets/controls",
            "_model_module_version": "1.5.0",
            "_model_name": "HTMLModel",
            "_view_count": null,
            "_view_module": "@jupyter-widgets/controls",
            "_view_module_version": "1.5.0",
            "_view_name": "HTMLView",
            "description": "",
            "description_tooltip": null,
            "layout": "IPY_MODEL_05a7bd07b062465ea363cd2a0aafd2c4",
            "placeholder": "​",
            "style": "IPY_MODEL_b3826a93b4404072949e682dec93292b",
            "value": " 90925/90925 [00:17&lt;00:00, 6716.89it/s]"
          }
        },
        "0c815f63b62f4a45b1bacc18895a07d7": {
          "model_module": "@jupyter-widgets/base",
          "model_name": "LayoutModel",
          "model_module_version": "1.2.0",
          "state": {
            "_model_module": "@jupyter-widgets/base",
            "_model_module_version": "1.2.0",
            "_model_name": "LayoutModel",
            "_view_count": null,
            "_view_module": "@jupyter-widgets/base",
            "_view_module_version": "1.2.0",
            "_view_name": "LayoutView",
            "align_content": null,
            "align_items": null,
            "align_self": null,
            "border": null,
            "bottom": null,
            "display": null,
            "flex": null,
            "flex_flow": null,
            "grid_area": null,
            "grid_auto_columns": null,
            "grid_auto_flow": null,
            "grid_auto_rows": null,
            "grid_column": null,
            "grid_gap": null,
            "grid_row": null,
            "grid_template_areas": null,
            "grid_template_columns": null,
            "grid_template_rows": null,
            "height": null,
            "justify_content": null,
            "justify_items": null,
            "left": null,
            "margin": null,
            "max_height": null,
            "max_width": null,
            "min_height": null,
            "min_width": null,
            "object_fit": null,
            "object_position": null,
            "order": null,
            "overflow": null,
            "overflow_x": null,
            "overflow_y": null,
            "padding": null,
            "right": null,
            "top": null,
            "visibility": null,
            "width": null
          }
        },
        "b1b6da782d2f4bb8a4b0d2e77513a8fa": {
          "model_module": "@jupyter-widgets/base",
          "model_name": "LayoutModel",
          "model_module_version": "1.2.0",
          "state": {
            "_model_module": "@jupyter-widgets/base",
            "_model_module_version": "1.2.0",
            "_model_name": "LayoutModel",
            "_view_count": null,
            "_view_module": "@jupyter-widgets/base",
            "_view_module_version": "1.2.0",
            "_view_name": "LayoutView",
            "align_content": null,
            "align_items": null,
            "align_self": null,
            "border": null,
            "bottom": null,
            "display": null,
            "flex": null,
            "flex_flow": null,
            "grid_area": null,
            "grid_auto_columns": null,
            "grid_auto_flow": null,
            "grid_auto_rows": null,
            "grid_column": null,
            "grid_gap": null,
            "grid_row": null,
            "grid_template_areas": null,
            "grid_template_columns": null,
            "grid_template_rows": null,
            "height": null,
            "justify_content": null,
            "justify_items": null,
            "left": null,
            "margin": null,
            "max_height": null,
            "max_width": null,
            "min_height": null,
            "min_width": null,
            "object_fit": null,
            "object_position": null,
            "order": null,
            "overflow": null,
            "overflow_x": null,
            "overflow_y": null,
            "padding": null,
            "right": null,
            "top": null,
            "visibility": null,
            "width": null
          }
        },
        "0d8d8c83b9854221b7c2ceef6afefbf7": {
          "model_module": "@jupyter-widgets/controls",
          "model_name": "DescriptionStyleModel",
          "model_module_version": "1.5.0",
          "state": {
            "_model_module": "@jupyter-widgets/controls",
            "_model_module_version": "1.5.0",
            "_model_name": "DescriptionStyleModel",
            "_view_count": null,
            "_view_module": "@jupyter-widgets/base",
            "_view_module_version": "1.2.0",
            "_view_name": "StyleView",
            "description_width": ""
          }
        },
        "287370dbf9a04b5dbad9751aa4e62e2c": {
          "model_module": "@jupyter-widgets/base",
          "model_name": "LayoutModel",
          "model_module_version": "1.2.0",
          "state": {
            "_model_module": "@jupyter-widgets/base",
            "_model_module_version": "1.2.0",
            "_model_name": "LayoutModel",
            "_view_count": null,
            "_view_module": "@jupyter-widgets/base",
            "_view_module_version": "1.2.0",
            "_view_name": "LayoutView",
            "align_content": null,
            "align_items": null,
            "align_self": null,
            "border": null,
            "bottom": null,
            "display": null,
            "flex": null,
            "flex_flow": null,
            "grid_area": null,
            "grid_auto_columns": null,
            "grid_auto_flow": null,
            "grid_auto_rows": null,
            "grid_column": null,
            "grid_gap": null,
            "grid_row": null,
            "grid_template_areas": null,
            "grid_template_columns": null,
            "grid_template_rows": null,
            "height": null,
            "justify_content": null,
            "justify_items": null,
            "left": null,
            "margin": null,
            "max_height": null,
            "max_width": null,
            "min_height": null,
            "min_width": null,
            "object_fit": null,
            "object_position": null,
            "order": null,
            "overflow": null,
            "overflow_x": null,
            "overflow_y": null,
            "padding": null,
            "right": null,
            "top": null,
            "visibility": null,
            "width": null
          }
        },
        "69d00186ad5e432bb7a529a2625cd5eb": {
          "model_module": "@jupyter-widgets/controls",
          "model_name": "ProgressStyleModel",
          "model_module_version": "1.5.0",
          "state": {
            "_model_module": "@jupyter-widgets/controls",
            "_model_module_version": "1.5.0",
            "_model_name": "ProgressStyleModel",
            "_view_count": null,
            "_view_module": "@jupyter-widgets/base",
            "_view_module_version": "1.2.0",
            "_view_name": "StyleView",
            "bar_color": null,
            "description_width": ""
          }
        },
        "05a7bd07b062465ea363cd2a0aafd2c4": {
          "model_module": "@jupyter-widgets/base",
          "model_name": "LayoutModel",
          "model_module_version": "1.2.0",
          "state": {
            "_model_module": "@jupyter-widgets/base",
            "_model_module_version": "1.2.0",
            "_model_name": "LayoutModel",
            "_view_count": null,
            "_view_module": "@jupyter-widgets/base",
            "_view_module_version": "1.2.0",
            "_view_name": "LayoutView",
            "align_content": null,
            "align_items": null,
            "align_self": null,
            "border": null,
            "bottom": null,
            "display": null,
            "flex": null,
            "flex_flow": null,
            "grid_area": null,
            "grid_auto_columns": null,
            "grid_auto_flow": null,
            "grid_auto_rows": null,
            "grid_column": null,
            "grid_gap": null,
            "grid_row": null,
            "grid_template_areas": null,
            "grid_template_columns": null,
            "grid_template_rows": null,
            "height": null,
            "justify_content": null,
            "justify_items": null,
            "left": null,
            "margin": null,
            "max_height": null,
            "max_width": null,
            "min_height": null,
            "min_width": null,
            "object_fit": null,
            "object_position": null,
            "order": null,
            "overflow": null,
            "overflow_x": null,
            "overflow_y": null,
            "padding": null,
            "right": null,
            "top": null,
            "visibility": null,
            "width": null
          }
        },
        "b3826a93b4404072949e682dec93292b": {
          "model_module": "@jupyter-widgets/controls",
          "model_name": "DescriptionStyleModel",
          "model_module_version": "1.5.0",
          "state": {
            "_model_module": "@jupyter-widgets/controls",
            "_model_module_version": "1.5.0",
            "_model_name": "DescriptionStyleModel",
            "_view_count": null,
            "_view_module": "@jupyter-widgets/base",
            "_view_module_version": "1.2.0",
            "_view_name": "StyleView",
            "description_width": ""
          }
        }
      }
    }
  },
  "nbformat": 4,
  "nbformat_minor": 0
}