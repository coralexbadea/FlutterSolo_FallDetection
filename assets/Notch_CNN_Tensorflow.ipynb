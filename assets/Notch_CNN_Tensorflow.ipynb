{
  "cells": [
    {
      "cell_type": "code",
      "execution_count": 83,
      "metadata": {
        "ExecuteTime": {
          "end_time": "2020-07-28T10:27:46.173057Z",
          "start_time": "2020-07-28T10:27:45.616963Z"
        },
        "id": "BsSBaOvK9gaI"
      },
      "outputs": [],
      "source": [
        "import matplotlib.pyplot as plt\n",
        "import numpy as np\n",
        "import pandas as pd\n",
        "from tqdm import tqdm_notebook as tqdm\n",
        "import collections\n",
        "import time\n",
        "%matplotlib inline\n",
        "\n",
        "from sklearn.model_selection import train_test_split\n",
        "from sklearn.preprocessing import LabelEncoder\n",
        "import tensorflow as tf\n",
        "from tensorflow import keras"
      ]
    },
    {
      "cell_type": "code",
      "source": [
        "from google.colab import drive\n",
        "drive.mount('/content/drive')"
      ],
      "metadata": {
        "id": "Ly_LokTY9ovl",
        "colab": {
          "base_uri": "https://localhost:8080/"
        },
        "outputId": "9f03d8ee-91c5-468e-aee4-9efce694a519"
      },
      "execution_count": 84,
      "outputs": [
        {
          "output_type": "stream",
          "name": "stdout",
          "text": [
            "Drive already mounted at /content/drive; to attempt to forcibly remount, call drive.mount(\"/content/drive\", force_remount=True).\n"
          ]
        }
      ]
    },
    {
      "cell_type": "code",
      "execution_count": 85,
      "metadata": {
        "ExecuteTime": {
          "end_time": "2020-07-28T10:27:46.865374Z",
          "start_time": "2020-07-28T10:27:46.824337Z"
        },
        "id": "lWBKfSwh9gaJ"
      },
      "outputs": [],
      "source": [
        "np.random.seed(42)"
      ]
    },
    {
      "cell_type": "code",
      "execution_count": 10,
      "metadata": {
        "ExecuteTime": {
          "end_time": "2020-07-28T10:27:47.536122Z",
          "start_time": "2020-07-28T10:27:47.464966Z"
        },
        "id": "iMI1mBn39gaK"
      },
      "outputs": [],
      "source": [
        "train = pd.read_csv('/content/drive/MyDrive/Hackathon/Notch/notch.csv')"
      ]
    },
    {
      "cell_type": "code",
      "source": [
        "train"
      ],
      "metadata": {
        "colab": {
          "base_uri": "https://localhost:8080/",
          "height": 423
        },
        "id": "DFycFffzJnls",
        "outputId": "2eb088da-1af6-4de5-ad21-662ea41b7ab8"
      },
      "execution_count": 11,
      "outputs": [
        {
          "output_type": "execute_result",
          "data": {
            "text/plain": [
              "       Acc_x [m/s^2]  Acc_y [m/s^2]  Acc_z [m/s^2]  AnyFall  NegOutcome\n",
              "0           0.014282      -0.172332      -0.482754        0           1\n",
              "1           0.016369      -0.174700      -0.417005        0           1\n",
              "2           0.088920       0.157522      -0.213992        0           1\n",
              "3           0.106267       0.282953      -0.159411        0           1\n",
              "4          -0.005552       0.206771      -0.042602        0           1\n",
              "...              ...            ...            ...      ...         ...\n",
              "82923      -0.121688      -0.068735       0.051570        0           1\n",
              "82924       0.310388      -0.065545      -0.408271        0           1\n",
              "82925       0.477990      -0.079820      -0.510297        0           1\n",
              "82926       0.455851      -0.079109      -0.502064        0           1\n",
              "82927       0.406227      -0.072498      -0.492710        0           1\n",
              "\n",
              "[82928 rows x 5 columns]"
            ],
            "text/html": [
              "\n",
              "  <div id=\"df-d9e8debe-0b82-47e8-b740-4b236f038ef8\">\n",
              "    <div class=\"colab-df-container\">\n",
              "      <div>\n",
              "<style scoped>\n",
              "    .dataframe tbody tr th:only-of-type {\n",
              "        vertical-align: middle;\n",
              "    }\n",
              "\n",
              "    .dataframe tbody tr th {\n",
              "        vertical-align: top;\n",
              "    }\n",
              "\n",
              "    .dataframe thead th {\n",
              "        text-align: right;\n",
              "    }\n",
              "</style>\n",
              "<table border=\"1\" class=\"dataframe\">\n",
              "  <thead>\n",
              "    <tr style=\"text-align: right;\">\n",
              "      <th></th>\n",
              "      <th>Acc_x [m/s^2]</th>\n",
              "      <th>Acc_y [m/s^2]</th>\n",
              "      <th>Acc_z [m/s^2]</th>\n",
              "      <th>AnyFall</th>\n",
              "      <th>NegOutcome</th>\n",
              "    </tr>\n",
              "  </thead>\n",
              "  <tbody>\n",
              "    <tr>\n",
              "      <th>0</th>\n",
              "      <td>0.014282</td>\n",
              "      <td>-0.172332</td>\n",
              "      <td>-0.482754</td>\n",
              "      <td>0</td>\n",
              "      <td>1</td>\n",
              "    </tr>\n",
              "    <tr>\n",
              "      <th>1</th>\n",
              "      <td>0.016369</td>\n",
              "      <td>-0.174700</td>\n",
              "      <td>-0.417005</td>\n",
              "      <td>0</td>\n",
              "      <td>1</td>\n",
              "    </tr>\n",
              "    <tr>\n",
              "      <th>2</th>\n",
              "      <td>0.088920</td>\n",
              "      <td>0.157522</td>\n",
              "      <td>-0.213992</td>\n",
              "      <td>0</td>\n",
              "      <td>1</td>\n",
              "    </tr>\n",
              "    <tr>\n",
              "      <th>3</th>\n",
              "      <td>0.106267</td>\n",
              "      <td>0.282953</td>\n",
              "      <td>-0.159411</td>\n",
              "      <td>0</td>\n",
              "      <td>1</td>\n",
              "    </tr>\n",
              "    <tr>\n",
              "      <th>4</th>\n",
              "      <td>-0.005552</td>\n",
              "      <td>0.206771</td>\n",
              "      <td>-0.042602</td>\n",
              "      <td>0</td>\n",
              "      <td>1</td>\n",
              "    </tr>\n",
              "    <tr>\n",
              "      <th>...</th>\n",
              "      <td>...</td>\n",
              "      <td>...</td>\n",
              "      <td>...</td>\n",
              "      <td>...</td>\n",
              "      <td>...</td>\n",
              "    </tr>\n",
              "    <tr>\n",
              "      <th>82923</th>\n",
              "      <td>-0.121688</td>\n",
              "      <td>-0.068735</td>\n",
              "      <td>0.051570</td>\n",
              "      <td>0</td>\n",
              "      <td>1</td>\n",
              "    </tr>\n",
              "    <tr>\n",
              "      <th>82924</th>\n",
              "      <td>0.310388</td>\n",
              "      <td>-0.065545</td>\n",
              "      <td>-0.408271</td>\n",
              "      <td>0</td>\n",
              "      <td>1</td>\n",
              "    </tr>\n",
              "    <tr>\n",
              "      <th>82925</th>\n",
              "      <td>0.477990</td>\n",
              "      <td>-0.079820</td>\n",
              "      <td>-0.510297</td>\n",
              "      <td>0</td>\n",
              "      <td>1</td>\n",
              "    </tr>\n",
              "    <tr>\n",
              "      <th>82926</th>\n",
              "      <td>0.455851</td>\n",
              "      <td>-0.079109</td>\n",
              "      <td>-0.502064</td>\n",
              "      <td>0</td>\n",
              "      <td>1</td>\n",
              "    </tr>\n",
              "    <tr>\n",
              "      <th>82927</th>\n",
              "      <td>0.406227</td>\n",
              "      <td>-0.072498</td>\n",
              "      <td>-0.492710</td>\n",
              "      <td>0</td>\n",
              "      <td>1</td>\n",
              "    </tr>\n",
              "  </tbody>\n",
              "</table>\n",
              "<p>82928 rows × 5 columns</p>\n",
              "</div>\n",
              "      <button class=\"colab-df-convert\" onclick=\"convertToInteractive('df-d9e8debe-0b82-47e8-b740-4b236f038ef8')\"\n",
              "              title=\"Convert this dataframe to an interactive table.\"\n",
              "              style=\"display:none;\">\n",
              "        \n",
              "  <svg xmlns=\"http://www.w3.org/2000/svg\" height=\"24px\"viewBox=\"0 0 24 24\"\n",
              "       width=\"24px\">\n",
              "    <path d=\"M0 0h24v24H0V0z\" fill=\"none\"/>\n",
              "    <path d=\"M18.56 5.44l.94 2.06.94-2.06 2.06-.94-2.06-.94-.94-2.06-.94 2.06-2.06.94zm-11 1L8.5 8.5l.94-2.06 2.06-.94-2.06-.94L8.5 2.5l-.94 2.06-2.06.94zm10 10l.94 2.06.94-2.06 2.06-.94-2.06-.94-.94-2.06-.94 2.06-2.06.94z\"/><path d=\"M17.41 7.96l-1.37-1.37c-.4-.4-.92-.59-1.43-.59-.52 0-1.04.2-1.43.59L10.3 9.45l-7.72 7.72c-.78.78-.78 2.05 0 2.83L4 21.41c.39.39.9.59 1.41.59.51 0 1.02-.2 1.41-.59l7.78-7.78 2.81-2.81c.8-.78.8-2.07 0-2.86zM5.41 20L4 18.59l7.72-7.72 1.47 1.35L5.41 20z\"/>\n",
              "  </svg>\n",
              "      </button>\n",
              "      \n",
              "  <style>\n",
              "    .colab-df-container {\n",
              "      display:flex;\n",
              "      flex-wrap:wrap;\n",
              "      gap: 12px;\n",
              "    }\n",
              "\n",
              "    .colab-df-convert {\n",
              "      background-color: #E8F0FE;\n",
              "      border: none;\n",
              "      border-radius: 50%;\n",
              "      cursor: pointer;\n",
              "      display: none;\n",
              "      fill: #1967D2;\n",
              "      height: 32px;\n",
              "      padding: 0 0 0 0;\n",
              "      width: 32px;\n",
              "    }\n",
              "\n",
              "    .colab-df-convert:hover {\n",
              "      background-color: #E2EBFA;\n",
              "      box-shadow: 0px 1px 2px rgba(60, 64, 67, 0.3), 0px 1px 3px 1px rgba(60, 64, 67, 0.15);\n",
              "      fill: #174EA6;\n",
              "    }\n",
              "\n",
              "    [theme=dark] .colab-df-convert {\n",
              "      background-color: #3B4455;\n",
              "      fill: #D2E3FC;\n",
              "    }\n",
              "\n",
              "    [theme=dark] .colab-df-convert:hover {\n",
              "      background-color: #434B5C;\n",
              "      box-shadow: 0px 1px 3px 1px rgba(0, 0, 0, 0.15);\n",
              "      filter: drop-shadow(0px 1px 2px rgba(0, 0, 0, 0.3));\n",
              "      fill: #FFFFFF;\n",
              "    }\n",
              "  </style>\n",
              "\n",
              "      <script>\n",
              "        const buttonEl =\n",
              "          document.querySelector('#df-d9e8debe-0b82-47e8-b740-4b236f038ef8 button.colab-df-convert');\n",
              "        buttonEl.style.display =\n",
              "          google.colab.kernel.accessAllowed ? 'block' : 'none';\n",
              "\n",
              "        async function convertToInteractive(key) {\n",
              "          const element = document.querySelector('#df-d9e8debe-0b82-47e8-b740-4b236f038ef8');\n",
              "          const dataTable =\n",
              "            await google.colab.kernel.invokeFunction('convertToInteractive',\n",
              "                                                     [key], {});\n",
              "          if (!dataTable) return;\n",
              "\n",
              "          const docLinkHtml = 'Like what you see? Visit the ' +\n",
              "            '<a target=\"_blank\" href=https://colab.research.google.com/notebooks/data_table.ipynb>data table notebook</a>'\n",
              "            + ' to learn more about interactive tables.';\n",
              "          element.innerHTML = '';\n",
              "          dataTable['output_type'] = 'display_data';\n",
              "          await google.colab.output.renderOutput(dataTable, element);\n",
              "          const docLink = document.createElement('div');\n",
              "          docLink.innerHTML = docLinkHtml;\n",
              "          element.appendChild(docLink);\n",
              "        }\n",
              "      </script>\n",
              "    </div>\n",
              "  </div>\n",
              "  "
            ]
          },
          "metadata": {},
          "execution_count": 11
        }
      ]
    },
    {
      "cell_type": "markdown",
      "metadata": {
        "id": "gGNmAHGY9gaK"
      },
      "source": [
        "## Preprecessing\n",
        "\n",
        "- sliding window size of 40\n",
        "- if data contains all fall samples(25 samples) then, label as 'FALL'\n",
        "- unless, it's all labelled as 'ADL'"
      ]
    },
    {
      "cell_type": "code",
      "execution_count": null,
      "metadata": {
        "ExecuteTime": {
          "end_time": "2020-07-28T10:31:06.773038Z",
          "start_time": "2020-07-28T10:30:37.415715Z"
        },
        "id": "kZ7w7ryS9gaL",
        "outputId": "68901836-d6e0-4fdd-8632-27f04c0d6c5f",
        "colab": {
          "referenced_widgets": [
            "93c520b967f4419a81be2a21e1772cbc",
            "9bd02f2706f84f9685772e45d898984f",
            "3283b338256b4ee58979b37faa0f637e",
            "60577e475e8e4ff198f327555121667b",
            "ae7104b2d6474fd3a5f68481dfbdddbf",
            "870e6ee440a84732a42d5c629b0de673",
            "5a84e5ffd5d346e4b06ccdcccb48d74f",
            "2ebbb8e7ef304f968e95a8162a05df72",
            "197488acc3994ad7a8e24023b5197324",
            "21d5cfe36d04455682a38b1ff521cbe8",
            "bf3394b070044a90aaf0283b4ef678a8"
          ],
          "base_uri": "https://localhost:8080/",
          "height": 124
        }
      },
      "outputs": [
        {
          "output_type": "stream",
          "name": "stderr",
          "text": [
            "<ipython-input-104-908304e4b4a9>:4: TqdmDeprecationWarning: This function will be removed in tqdm==5.0.0\n",
            "Please use `tqdm.notebook.tqdm` instead of `tqdm.tqdm_notebook`\n",
            "  for i in tqdm(range(0, len(train)-n)):\n"
          ]
        },
        {
          "output_type": "display_data",
          "data": {
            "text/plain": [
              "  0%|          | 0/92681 [00:00<?, ?it/s]"
            ],
            "application/vnd.jupyter.widget-view+json": {
              "version_major": 2,
              "version_minor": 0,
              "model_id": "93c520b967f4419a81be2a21e1772cbc"
            }
          },
          "metadata": {}
        }
      ],
      "source": [
        "n = 100\n",
        "X_train, y_train = list(), list()\n",
        "\n",
        "for i in tqdm(range(0, len(train)-n)):\n",
        "    temp = list()\n",
        "    \n",
        "    temp.append(train['Acc_x [m/s^2]'][i : i + n])\n",
        "    temp.append(train['Acc_x [m/s^2]'][i : i + n])\n",
        "    temp.append(train['Acc_x [m/s^2]'][i : i + n])\n",
        "    \n",
        "    cnt = collections.Counter(train['NegOutcome'][i: i + n])\n",
        "    num_adl = cnt[0]\n",
        "    num_fall = cnt[1]\n",
        "    \n",
        "    if num_fall == 30:\n",
        "        y_train.append(1)\n",
        "    else:\n",
        "        y_train.append(0)\n",
        "    \n",
        "    X_train.append(temp)"
      ]
    },
    {
      "cell_type": "code",
      "execution_count": 58,
      "metadata": {
        "ExecuteTime": {
          "end_time": "2020-07-28T10:33:49.234112Z",
          "start_time": "2020-07-28T10:33:20.713591Z"
        },
        "id": "zPSSTBk19gaM",
        "outputId": "899fb059-ccde-4708-a29a-d60c7611826c",
        "colab": {
          "referenced_widgets": [
            "e742686df7a84618b4379dae87f7435b",
            "c8d92a9ed739474daec8ca0c7acd7655",
            "966f6ce882cc4def9e8a456f628ffdb6",
            "b361e450fad74b3f851e262f2340ce17",
            "b9482c068bfd484d9f1a829986ad91f4",
            "e100c565d6a148e79236ac18c252d9d0",
            "0fffa805666248f69409a5e851edb057",
            "53b526f11d1e4804b51d67e4bab61cac",
            "0db742b058794773aaee60c4979d16a0",
            "96d039ea52b846508d1969e06df967ca",
            "1896d11a5e4c466f95f485b1decdb214"
          ],
          "base_uri": "https://localhost:8080/",
          "height": 104
        }
      },
      "outputs": [
        {
          "output_type": "stream",
          "name": "stderr",
          "text": [
            "<ipython-input-58-fba13d887ca1>:3: TqdmDeprecationWarning: This function will be removed in tqdm==5.0.0\n",
            "Please use `tqdm.notebook.tqdm` instead of `tqdm.tqdm_notebook`\n",
            "  for i in tqdm(range(0, len(train) - n, n//3)):\n"
          ]
        },
        {
          "output_type": "display_data",
          "data": {
            "text/plain": [
              "  0%|          | 0/2510 [00:00<?, ?it/s]"
            ],
            "application/vnd.jupyter.widget-view+json": {
              "version_major": 2,
              "version_minor": 0,
              "model_id": "e742686df7a84618b4379dae87f7435b"
            }
          },
          "metadata": {}
        }
      ],
      "source": [
        "n = 100\n",
        "X_test_adl, X_test_fall, y_test_adl, y_test_fall = list(), list(), list(), list()\n",
        "for i in tqdm(range(0, len(train) - n, n//3)):\n",
        "    temp = list()\n",
        "    \n",
        "    temp.append(train['Acc_x [m/s^2]'][i : i + n])\n",
        "    temp.append(train['Acc_x [m/s^2]'][i : i + n])\n",
        "    temp.append(train['Acc_x [m/s^2]'][i : i + n])\n",
        "    \n",
        "    cnt = collections.Counter(train['NegOutcome'][i: i + n])\n",
        "    num_adl = cnt[0]\n",
        "    num_fall = cnt[1]\n",
        "    \n",
        "    if num_fall > 70:\n",
        "        y_test_fall.append(1)\n",
        "        X_test_fall.append(temp)\n",
        "    else:\n",
        "        y_test_adl.append(0)\n",
        "        X_test_adl.append(temp)"
      ]
    },
    {
      "cell_type": "code",
      "execution_count": 59,
      "metadata": {
        "ExecuteTime": {
          "end_time": "2020-07-28T10:33:52.059775Z",
          "start_time": "2020-07-28T10:33:52.052917Z"
        },
        "id": "Cs8SVkny9gaM",
        "outputId": "1328e7af-524a-4c8b-f80f-b80aae03071c",
        "colab": {
          "base_uri": "https://localhost:8080/"
        }
      },
      "outputs": [
        {
          "output_type": "stream",
          "name": "stdout",
          "text": [
            "2164\n",
            "346\n"
          ]
        }
      ],
      "source": [
        "print(len(y_test_fall))\n",
        "print(len(y_test_adl))"
      ]
    },
    {
      "cell_type": "code",
      "execution_count": 51,
      "metadata": {
        "ExecuteTime": {
          "end_time": "2020-07-28T10:34:15.323838Z",
          "start_time": "2020-07-28T10:34:15.078385Z"
        },
        "id": "z2DD3K7X9gaM"
      },
      "outputs": [],
      "source": [
        "y_train = y_test_adl + y_test_fall\n",
        "X_train = X_test_adl + X_test_fall"
      ]
    },
    {
      "cell_type": "code",
      "execution_count": 52,
      "metadata": {
        "ExecuteTime": {
          "end_time": "2020-07-28T10:34:43.212536Z",
          "start_time": "2020-07-28T10:34:43.202680Z"
        },
        "id": "iV1Qz1GY9gaN",
        "outputId": "eae880b4-7215-4fbf-cea7-bdddd3b65cc5",
        "colab": {
          "base_uri": "https://localhost:8080/"
        }
      },
      "outputs": [
        {
          "output_type": "stream",
          "name": "stdout",
          "text": [
            "length of test data 79646\n"
          ]
        }
      ],
      "source": [
        "print('length of test data', len(X_test))"
      ]
    },
    {
      "cell_type": "markdown",
      "metadata": {
        "id": "AIdUR5579gaO"
      },
      "source": [
        "## CNN/DENSE model declaration \n"
      ]
    },
    {
      "cell_type": "code",
      "source": [
        "# from tensorflow.keras.layers import Input, Flatten, Conv1D, Embedding, Bidirectional, Dense\n",
        "\n",
        "# model = keras.Sequential()\n",
        "\n",
        "# input_shape=(128,40,3)\n",
        "# # encoder\n",
        "# model.add(Input(shape=input_shape[1:]))\n",
        "# model.add(Flatten())\n",
        "# model.add(Dense(20, input_shape = (256,), activation = 'relu'))\n",
        "# model.add(Dense(15, activation = 'relu'))\n",
        "# model.add(Dense(10, activation = 'relu'))\n",
        "\n",
        "# # binary classifier as decoder\n",
        "# model.add(Dense(name='classifier', units=1, activation='sigmoid'))\n",
        "\n",
        "# model.compile(optimizer='adam', loss='binary_crossentropy', metrics=['accuracy'])\n",
        "\n",
        "# model.summary()"
      ],
      "metadata": {
        "id": "3-zuFCxh2rob"
      },
      "execution_count": null,
      "outputs": []
    },
    {
      "cell_type": "code",
      "source": [
        "from tensorflow.keras.layers import Input, Conv1D, MaxPooling1D, Flatten, Dense, Reshape\n",
        "\n",
        "model = keras.Sequential()\n",
        "\n",
        "# encoder\n",
        "model.add(Input(shape=(n, 3)))\n",
        "model.add(Conv1D(filters=64, kernel_size=3, activation='relu', padding='same'))\n",
        "model.add(Conv1D(filters=64, kernel_size=3, activation='relu', padding='same'))\n",
        "model.add(MaxPooling1D(pool_size=2, padding='same'))\n",
        "model.add(Conv1D(filters=32, kernel_size=3, activation='relu', padding='same'))\n",
        "model.add(Conv1D(filters=32, kernel_size=3, activation='relu', padding='same'))\n",
        "model.add(MaxPooling1D(pool_size=2, padding='same'))\n",
        "model.add(Conv1D(filters=32, kernel_size=3, activation='relu', padding='same'))\n",
        "model.add(Conv1D(filters=32, kernel_size=3, activation='relu', padding='same'))\n",
        "model.add(MaxPooling1D(pool_size=2, padding='same'))\n",
        "model.add(Flatten())\n",
        "model.add(Dense(units=20, activation='relu'))\n",
        "model.add(Dense(units=15, activation='relu'))\n",
        "model.add(Dense(units=10, activation='relu'))\n",
        "\n",
        "# binary classifier as decoder\n",
        "model.add(Dense(units=1, activation='sigmoid', name='classifier'))\n",
        "\n",
        "#model.compile(optimizer='adam', loss='binary_crossentropy', metrics=['accuracy'])\n",
        "\n",
        "model.summary()"
      ],
      "metadata": {
        "colab": {
          "base_uri": "https://localhost:8080/"
        },
        "id": "S0xDQZnarwyU",
        "outputId": "b59cb2c1-6d35-4a42-bd36-e8a0921dd5d8"
      },
      "execution_count": 32,
      "outputs": [
        {
          "output_type": "stream",
          "name": "stdout",
          "text": [
            "Model: \"sequential\"\n",
            "_________________________________________________________________\n",
            " Layer (type)                Output Shape              Param #   \n",
            "=================================================================\n",
            " conv1d (Conv1D)             (None, 100, 64)           640       \n",
            "                                                                 \n",
            " conv1d_1 (Conv1D)           (None, 100, 64)           12352     \n",
            "                                                                 \n",
            " max_pooling1d (MaxPooling1D  (None, 50, 64)           0         \n",
            " )                                                               \n",
            "                                                                 \n",
            " conv1d_2 (Conv1D)           (None, 50, 32)            6176      \n",
            "                                                                 \n",
            " conv1d_3 (Conv1D)           (None, 50, 32)            3104      \n",
            "                                                                 \n",
            " max_pooling1d_1 (MaxPooling  (None, 25, 32)           0         \n",
            " 1D)                                                             \n",
            "                                                                 \n",
            " conv1d_4 (Conv1D)           (None, 25, 32)            3104      \n",
            "                                                                 \n",
            " conv1d_5 (Conv1D)           (None, 25, 32)            3104      \n",
            "                                                                 \n",
            " max_pooling1d_2 (MaxPooling  (None, 13, 32)           0         \n",
            " 1D)                                                             \n",
            "                                                                 \n",
            " flatten (Flatten)           (None, 416)               0         \n",
            "                                                                 \n",
            " dense (Dense)               (None, 20)                8340      \n",
            "                                                                 \n",
            " dense_1 (Dense)             (None, 15)                315       \n",
            "                                                                 \n",
            " dense_2 (Dense)             (None, 10)                160       \n",
            "                                                                 \n",
            " classifier (Dense)          (None, 1)                 11        \n",
            "                                                                 \n",
            "=================================================================\n",
            "Total params: 37,306\n",
            "Trainable params: 37,306\n",
            "Non-trainable params: 0\n",
            "_________________________________________________________________\n"
          ]
        }
      ]
    },
    {
      "cell_type": "markdown",
      "metadata": {
        "id": "H5Q-t36b9gaO"
      },
      "source": [
        "## Preparing datasets"
      ]
    },
    {
      "cell_type": "code",
      "execution_count": 62,
      "metadata": {
        "ExecuteTime": {
          "end_time": "2020-07-28T10:40:23.899605Z",
          "start_time": "2020-07-28T10:40:06.398708Z"
        },
        "id": "mpJyhlhD9gaP"
      },
      "outputs": [],
      "source": [
        "X_train = np.asarray(X_train).reshape(-1, n, 3)\n",
        "y_train = np.asarray(y_train).reshape(-1, )\n",
        "\n",
        "X_test_fall = np.asarray(X_test_fall).reshape(-1, n, 3)\n",
        "y_test_fall = np.asarray(y_test_fall).reshape(-1, )\n",
        "X_test_adl = np.asarray(X_test_adl).reshape(-1, n, 3)\n",
        "y_test_adl = np.asarray(y_test_adl).reshape(-1, )"
      ]
    },
    {
      "cell_type": "code",
      "execution_count": 63,
      "metadata": {
        "ExecuteTime": {
          "end_time": "2020-07-28T10:40:23.909096Z",
          "start_time": "2020-07-28T10:40:23.901300Z"
        },
        "id": "-9lRg4dY9gaP"
      },
      "outputs": [],
      "source": [
        "from sklearn.preprocessing import LabelEncoder\n",
        "enc = LabelEncoder()\n",
        "\n",
        "# y_train = enc.fit_transform(y_train)\n",
        "# y_test = enc.fit_transform(y_test)"
      ]
    },
    {
      "cell_type": "code",
      "execution_count": 64,
      "metadata": {
        "ExecuteTime": {
          "end_time": "2020-07-28T10:40:23.982434Z",
          "start_time": "2020-07-28T10:40:23.911036Z"
        },
        "id": "T6DRbPHt9gaP"
      },
      "outputs": [],
      "source": [
        "#X_train, X_valid, y_train, y_valid = train_test_split(X_train, y_train, test_size=0.1)"
      ]
    },
    {
      "cell_type": "code",
      "execution_count": 65,
      "metadata": {
        "ExecuteTime": {
          "end_time": "2020-07-28T10:40:32.576125Z",
          "start_time": "2020-07-28T10:40:32.566613Z"
        },
        "id": "IqFEWTV69gaP"
      },
      "outputs": [],
      "source": [
        "batch_size = 128\n",
        "\n",
        "train_data = tf.data.Dataset.from_tensor_slices((tf.convert_to_tensor(X_train), tf.convert_to_tensor(y_train)))\n",
        "train_loader = train_data.shuffle(buffer_size=len(train_data)).batch(batch_size)\n",
        "\n",
        "# valid_data = tf.data.Dataset.from_tensor_slices((tf.convert_to_tensor(X_valid), tf.convert_to_tensor(y_valid)))\n",
        "# valid_loader = valid_data.shuffle(buffer_size=len(valid_data)).batch(batch_size)\n",
        "\n",
        "# test_data = tf.data.Dataset.from_tensor_slices((tf.convert_to_tensor(X_test), tf.convert_to_tensor(y_test)))\n",
        "# test_loader = test_data.shuffle(buffer_size=len(test_data)).batch(batch_size)\n"
      ]
    },
    {
      "cell_type": "markdown",
      "metadata": {
        "id": "56vriT_-9gaP"
      },
      "source": [
        "## Model training"
      ]
    },
    {
      "cell_type": "code",
      "execution_count": 37,
      "metadata": {
        "ExecuteTime": {
          "end_time": "2020-07-28T10:48:41.930197Z",
          "start_time": "2020-07-28T10:48:41.898982Z"
        },
        "id": "nEAytbfS9gaP"
      },
      "outputs": [],
      "source": [
        "input_dim = train_loader.element_spec[0].shape[2]\n",
        "output_dim = 2\n",
        "n_layers = 2\n",
        "hidden_dim = 256\n",
        "\n",
        "lr = 0.0001\n",
        "n_epochs = 40\n",
        "iterations_per_epoch = len(train_loader)\n",
        "best_acc = 0.\n",
        "patience, trials = 15, 0\n",
        "\n",
        "criterion = tf.keras.losses.BinaryCrossentropy()\n",
        "lr_schedule = tf.keras.experimental.CosineDecayRestarts(initial_learning_rate=lr, first_decay_steps=iterations_per_epoch * 2)\n",
        "optimizer = tf.keras.optimizers.Adam(learning_rate=lr_schedule)\n",
        "epoch_times = []\n"
      ]
    },
    {
      "cell_type": "code",
      "source": [
        "model.compile(optimizer, criterion,metrics=['accuracy'])"
      ],
      "metadata": {
        "id": "rG7H14ns5PWs"
      },
      "execution_count": 38,
      "outputs": []
    },
    {
      "cell_type": "code",
      "source": [
        "%time history = model.fit(X_train, y_train, epochs=10, batch_size=batch_size, validation_split=0.2)"
      ],
      "metadata": {
        "colab": {
          "base_uri": "https://localhost:8080/"
        },
        "id": "793YY4Qh4R_1",
        "outputId": "3b05f269-9a8a-4187-a499-4bab557c4278"
      },
      "execution_count": 39,
      "outputs": [
        {
          "output_type": "stream",
          "name": "stdout",
          "text": [
            "Epoch 1/10\n",
            "518/518 [==============================] - 27s 47ms/step - loss: 0.3699 - accuracy: 0.9004 - val_loss: 0.1636 - val_accuracy: 0.9694\n",
            "Epoch 2/10\n",
            "518/518 [==============================] - 25s 47ms/step - loss: 0.2276 - accuracy: 0.9184 - val_loss: 0.1708 - val_accuracy: 0.9625\n",
            "Epoch 3/10\n",
            "518/518 [==============================] - 25s 49ms/step - loss: 0.2162 - accuracy: 0.9212 - val_loss: 0.2009 - val_accuracy: 0.9498\n",
            "Epoch 4/10\n",
            "518/518 [==============================] - 25s 48ms/step - loss: 0.1939 - accuracy: 0.9276 - val_loss: 0.2471 - val_accuracy: 0.9325\n",
            "Epoch 5/10\n",
            "518/518 [==============================] - 24s 47ms/step - loss: 0.1718 - accuracy: 0.9342 - val_loss: 0.1902 - val_accuracy: 0.9472\n",
            "Epoch 6/10\n",
            "518/518 [==============================] - 24s 47ms/step - loss: 0.1554 - accuracy: 0.9392 - val_loss: 0.1810 - val_accuracy: 0.9507\n",
            "Epoch 7/10\n",
            "518/518 [==============================] - 25s 48ms/step - loss: 0.1480 - accuracy: 0.9422 - val_loss: 0.1686 - val_accuracy: 0.9567\n",
            "Epoch 8/10\n",
            "518/518 [==============================] - 25s 48ms/step - loss: 0.1476 - accuracy: 0.9431 - val_loss: 0.1668 - val_accuracy: 0.9574\n",
            "Epoch 9/10\n",
            "518/518 [==============================] - 24s 47ms/step - loss: 0.1351 - accuracy: 0.9476 - val_loss: 0.1669 - val_accuracy: 0.9567\n",
            "Epoch 10/10\n",
            "518/518 [==============================] - 24s 47ms/step - loss: 0.1231 - accuracy: 0.9522 - val_loss: 0.1205 - val_accuracy: 0.9682\n",
            "CPU times: user 11min 4s, sys: 23.1 s, total: 11min 27s\n",
            "Wall time: 4min 24s\n"
          ]
        }
      ]
    },
    {
      "cell_type": "code",
      "source": [
        "test_loss, test_accuracy = model.evaluate(test_loader, batch_size=batch_size)\n",
        "test_accuracy"
      ],
      "metadata": {
        "colab": {
          "base_uri": "https://localhost:8080/"
        },
        "id": "7pnAh-xFFNyt",
        "outputId": "826ea587-2d8b-4512-f0c5-586593d0b1d4"
      },
      "execution_count": 40,
      "outputs": [
        {
          "output_type": "stream",
          "name": "stdout",
          "text": [
            "623/623 [==============================] - 9s 13ms/step - loss: 0.0855 - accuracy: 0.9706\n"
          ]
        },
        {
          "output_type": "execute_result",
          "data": {
            "text/plain": [
              "0.9706199765205383"
            ]
          },
          "metadata": {},
          "execution_count": 40
        }
      ]
    },
    {
      "cell_type": "code",
      "execution_count": 43,
      "metadata": {
        "ExecuteTime": {
          "end_time": "2020-07-28T10:54:37.562768Z",
          "start_time": "2020-07-28T10:48:42.417547Z"
        },
        "id": "MTTBt6bI9gaQ",
        "outputId": "731d1d11-d620-4478-f847-5f71573fc9f0",
        "colab": {
          "base_uri": "https://localhost:8080/",
          "height": 249
        }
      },
      "outputs": [
        {
          "output_type": "display_data",
          "data": {
            "text/plain": [
              "<Figure size 2000x500 with 1 Axes>"
            ],
            "image/png": "[encoded data removed]"
          },
          "metadata": {}
        }
      ],
      "source": [
        "def plot_history(history, samples=10, init_phase_samples=None):\n",
        "    epochs = history.params['epochs']\n",
        "    \n",
        "    acc = history.history['accuracy']\n",
        "    val_acc = history.history['val_accuracy']\n",
        "\n",
        "    every_sample =  int(epochs / samples)\n",
        "    acc = pd.DataFrame(acc).iloc[::every_sample, :]\n",
        "    val_acc = pd.DataFrame(val_acc).iloc[::every_sample, :]\n",
        "\n",
        "    fig, ax = plt.subplots(figsize=(20,5))\n",
        "\n",
        "    ax.plot(acc, 'bo', label='Training acc')\n",
        "    ax.plot(val_acc, 'b', label='Validation acc')\n",
        "    ax.set_title('Training and validation accuracy')\n",
        "    ax.legend()\n",
        "\n",
        "plot_history(history)"
      ]
    },
    {
      "cell_type": "code",
      "execution_count": 43,
      "metadata": {
        "ExecuteTime": {
          "end_time": "2020-07-28T10:54:37.883189Z",
          "start_time": "2020-07-28T10:54:37.684430Z"
        },
        "id": "xI0SgD3B9gaQ"
      },
      "outputs": [],
      "source": []
    },
    {
      "cell_type": "code",
      "source": [
        "model.save('model.h5')\n",
        "loaded_model = keras.models.load_model('model.h5')\n",
        "result = loaded_model(tf.random.uniform((1,n,3))).numpy()\n",
        "result"
      ],
      "metadata": {
        "colab": {
          "base_uri": "https://localhost:8080/"
        },
        "id": "LiteZG5UGgtU",
        "outputId": "c5dd13b6-fc40-4667-8976-fd074a43b78a"
      },
      "execution_count": 66,
      "outputs": [
        {
          "output_type": "execute_result",
          "data": {
            "text/plain": [
              "array([[0.9996042]], dtype=float32)"
            ]
          },
          "metadata": {},
          "execution_count": 66
        }
      ]
    },
    {
      "cell_type": "code",
      "source": [
        "result = loaded_model(X_test_fall).numpy()\n",
        "(result < 0.99).sum()"
      ],
      "metadata": {
        "colab": {
          "base_uri": "https://localhost:8080/"
        },
        "id": "UAGX5Ds7RVq3",
        "outputId": "67834068-af31-4fb3-8552-386ca663824a"
      },
      "execution_count": 80,
      "outputs": [
        {
          "output_type": "execute_result",
          "data": {
            "text/plain": [
              "617"
            ]
          },
          "metadata": {},
          "execution_count": 80
        }
      ]
    },
    {
      "cell_type": "code",
      "source": [
        "result = loaded_model(X_test_adl).numpy()\n",
        "(result > 0.99).sum()"
      ],
      "metadata": {
        "colab": {
          "base_uri": "https://localhost:8080/"
        },
        "id": "XOxNiFWrRIFH",
        "outputId": "44717d5e-15e9-4d04-964a-818b3e3ca812"
      },
      "execution_count": 82,
      "outputs": [
        {
          "output_type": "execute_result",
          "data": {
            "text/plain": [
              "42"
            ]
          },
          "metadata": {},
          "execution_count": 82
        }
      ]
    },
    {
      "cell_type": "code",
      "source": [
        "from tensorflow import lite\n",
        "\n",
        "converter = lite.TFLiteConverter.from_keras_model(loaded_model)\n",
        "\n",
        "converter._experimental_default_to_single_batch_in_tensor_list_ops = True\n",
        "\n",
        "converter.optimizations = [tf.lite.Optimize.DEFAULT]\n",
        "converter.experimental_new_converter=True\n",
        "converter.target_spec.supported_ops = [tf.lite.OpsSet.TFLITE_BUILTINS, tf.lite.OpsSet.SELECT_TF_OPS] \n",
        "\n",
        "tfmodel = converter.convert()\n",
        "open('model.tflite', 'wb').write(tfmodel)"
      ],
      "metadata": {
        "id": "jlW1sKoiPNOA",
        "colab": {
          "base_uri": "https://localhost:8080/"
        },
        "outputId": "ff101c0c-edf4-47e1-e781-53e89f48184e"
      },
      "execution_count": 45,
      "outputs": [
        {
          "output_type": "stream",
          "name": "stderr",
          "text": [
            "WARNING:absl:Found untraced functions such as _jit_compiled_convolution_op, _jit_compiled_convolution_op, _jit_compiled_convolution_op, _jit_compiled_convolution_op, _jit_compiled_convolution_op while saving (showing 5 of 7). These functions will not be directly callable after loading.\n"
          ]
        },
        {
          "output_type": "execute_result",
          "data": {
            "text/plain": [
              "54536"
            ]
          },
          "metadata": {},
          "execution_count": 45
        }
      ]
    },
    {
      "cell_type": "code",
      "source": [],
      "metadata": {
        "id": "cIsygEuVw6gp"
      },
      "execution_count": null,
      "outputs": []
    },
    {
      "cell_type": "code",
      "source": [
        "# run_model = tf.function(lambda x: model(x))\n",
        "# # This is important, let's fix the input size.\n",
        "# BATCH_SIZE = 1\n",
        "# STEPS = 40\n",
        "# INPUT_SIZE = 3\n",
        "# concrete_func = run_model.get_concrete_function(\n",
        "#     tf.TensorSpec([BATCH_SIZE, STEPS, INPUT_SIZE], model.inputs[0].dtype))\n",
        "\n",
        "# # model directory.\n",
        "# MODEL_DIR = \"keras_lstm\"\n",
        "# model.save(MODEL_DIR, save_format=\"tf\", signatures=concrete_func)\n",
        "\n",
        "# converter = tf.lite.TFLiteConverter.from_saved_model(MODEL_DIR)\n",
        "# tflite_model = converter.convert()\n",
        "# open('model1.tflite', 'wb').write(tfmodel)"
      ],
      "metadata": {
        "id": "t-WDcZHnU56X"
      },
      "execution_count": null,
      "outputs": []
    },
    {
      "cell_type": "code",
      "source": [],
      "metadata": {
        "id": "8sig19CzOMZD"
      },
      "execution_count": null,
      "outputs": []
    },
    {
      "cell_type": "code",
      "source": [
        "import numpy as np\n",
        "import tensorflow as tf\n",
        "\n",
        "# Load the TFLite model\n",
        "interpreter = tf.lite.Interpreter(model_path=\"model1.tflite\")\n",
        "interpreter.allocate_tensors()\n",
        "\n",
        "# Get input and output details\n",
        "input_details = interpreter.get_input_details()\n",
        "output_details = interpreter.get_output_details()\n",
        "\n",
        "# Prepare input data\n",
        "input_shape = input_details[0]['shape']\n",
        "input_data = np.array(np.random.random_sample(input_shape), dtype=np.float32)\n",
        "\n",
        "# Set input data\n",
        "interpreter.set_tensor(input_details[0]['index'], input_data)\n",
        "\n",
        "# Run inference\n",
        "interpreter.invoke()\n",
        "\n",
        "# Get output data\n",
        "output_data = interpreter.get_tensor(output_details[0]['index'])\n"
      ],
      "metadata": {
        "id": "w_L1M07zwcmr"
      },
      "execution_count": null,
      "outputs": []
    },
    {
      "cell_type": "code",
      "source": [
        "output_details"
      ],
      "metadata": {
        "colab": {
          "base_uri": "https://localhost:8080/"
        },
        "id": "ZkIhe_4wXTWc",
        "outputId": "1be26072-6a60-4210-9f8c-03557c6e978b"
      },
      "execution_count": null,
      "outputs": [
        {
          "output_type": "execute_result",
          "data": {
            "text/plain": [
              "[{'name': 'StatefulPartitionedCall:0',\n",
              "  'index': 34,\n",
              "  'shape': array([1, 1], dtype=int32),\n",
              "  'shape_signature': array([-1,  1], dtype=int32),\n",
              "  'dtype': numpy.float32,\n",
              "  'quantization': (0.0, 0),\n",
              "  'quantization_parameters': {'scales': array([], dtype=float32),\n",
              "   'zero_points': array([], dtype=int32),\n",
              "   'quantized_dimension': 0},\n",
              "  'sparsity_parameters': {}}]"
            ]
          },
          "metadata": {},
          "execution_count": 112
        }
      ]
    },
    {
      "cell_type": "code",
      "source": [],
      "metadata": {
        "id": "zxsroxZzweK9"
      },
      "execution_count": null,
      "outputs": []
    }
  ],
  "metadata": {
    "kernelspec": {
      "display_name": "Python 3",
      "language": "python",
      "name": "python3"
    },
    "language_info": {
      "codemirror_mode": {
        "name": "ipython",
        "version": 3
      },
      "file_extension": ".py",
      "mimetype": "text/x-python",
      "name": "python",
      "nbconvert_exporter": "python",
      "pygments_lexer": "ipython3",
      "version": "3.7.6"
    },
    "toc": {
      "base_numbering": 1,
      "nav_menu": {},
      "number_sections": false,
      "sideBar": true,
      "skip_h1_title": false,
      "title_cell": "Table of Contents",
      "title_sidebar": "Contents",
      "toc_cell": false,
      "toc_position": {},
      "toc_section_display": true,
      "toc_window_display": false
    },
    "colab": {
      "provenance": [],
      "machine_shape": "hm",
      "gpuType": "V100"
    },
    "gpuClass": "standard",
    "widgets": {
      "application/vnd.jupyter.widget-state+json": {
        "93c520b967f4419a81be2a21e1772cbc": {
          "model_module": "@jupyter-widgets/controls",
          "model_name": "HBoxModel",
          "model_module_version": "1.5.0",
          "state": {
            "_dom_classes": [],
            "_model_module": "@jupyter-widgets/controls",
            "_model_module_version": "1.5.0",
            "_model_name": "HBoxModel",
            "_view_count": null,
            "_view_module": "@jupyter-widgets/controls",
            "_view_module_version": "1.5.0",
            "_view_name": "HBoxView",
            "box_style": "",
            "children": [
              "IPY_MODEL_9bd02f2706f84f9685772e45d898984f",
              "IPY_MODEL_3283b338256b4ee58979b37faa0f637e",
              "IPY_MODEL_60577e475e8e4ff198f327555121667b"
            ],
            "layout": "IPY_MODEL_ae7104b2d6474fd3a5f68481dfbdddbf"
          }
        },
        "9bd02f2706f84f9685772e45d898984f": {
          "model_module": "@jupyter-widgets/controls",
          "model_name": "HTMLModel",
          "model_module_version": "1.5.0",
          "state": {
            "_dom_classes": [],
            "_model_module": "@jupyter-widgets/controls",
            "_model_module_version": "1.5.0",
            "_model_name": "HTMLModel",
            "_view_count": null,
            "_view_module": "@jupyter-widgets/controls",
            "_view_module_version": "1.5.0",
            "_view_name": "HTMLView",
            "description": "",
            "description_tooltip": null,
            "layout": "IPY_MODEL_870e6ee440a84732a42d5c629b0de673",
            "placeholder": "​",
            "style": "IPY_MODEL_5a84e5ffd5d346e4b06ccdcccb48d74f",
            "value": "100%"
          }
        },
        "3283b338256b4ee58979b37faa0f637e": {
          "model_module": "@jupyter-widgets/controls",
          "model_name": "FloatProgressModel",
          "model_module_version": "1.5.0",
          "state": {
            "_dom_classes": [],
            "_model_module": "@jupyter-widgets/controls",
            "_model_module_version": "1.5.0",
            "_model_name": "FloatProgressModel",
            "_view_count": null,
            "_view_module": "@jupyter-widgets/controls",
            "_view_module_version": "1.5.0",
            "_view_name": "ProgressView",
            "bar_style": "success",
            "description": "",
            "description_tooltip": null,
            "layout": "IPY_MODEL_2ebbb8e7ef304f968e95a8162a05df72",
            "max": 92681,
            "min": 0,
            "orientation": "horizontal",
            "style": "IPY_MODEL_197488acc3994ad7a8e24023b5197324",
            "value": 92681
          }
        },
        "60577e475e8e4ff198f327555121667b": {
          "model_module": "@jupyter-widgets/controls",
          "model_name": "HTMLModel",
          "model_module_version": "1.5.0",
          "state": {
            "_dom_classes": [],
            "_model_module": "@jupyter-widgets/controls",
            "_model_module_version": "1.5.0",
            "_model_name": "HTMLModel",
            "_view_count": null,
            "_view_module": "@jupyter-widgets/controls",
            "_view_module_version": "1.5.0",
            "_view_name": "HTMLView",
            "description": "",
            "description_tooltip": null,
            "layout": "IPY_MODEL_21d5cfe36d04455682a38b1ff521cbe8",
            "placeholder": "​",
            "style": "IPY_MODEL_bf3394b070044a90aaf0283b4ef678a8",
            "value": " 92681/92681 [00:19&lt;00:00, 4537.37it/s]"
          }
        },
        "ae7104b2d6474fd3a5f68481dfbdddbf": {
          "model_module": "@jupyter-widgets/base",
          "model_name": "LayoutModel",
          "model_module_version": "1.2.0",
          "state": {
            "_model_module": "@jupyter-widgets/base",
            "_model_module_version": "1.2.0",
            "_model_name": "LayoutModel",
            "_view_count": null,
            "_view_module": "@jupyter-widgets/base",
            "_view_module_version": "1.2.0",
            "_view_name": "LayoutView",
            "align_content": null,
            "align_items": null,
            "align_self": null,
            "border": null,
            "bottom": null,
            "display": null,
            "flex": null,
            "flex_flow": null,
            "grid_area": null,
            "grid_auto_columns": null,
            "grid_auto_flow": null,
            "grid_auto_rows": null,
            "grid_column": null,
            "grid_gap": null,
            "grid_row": null,
            "grid_template_areas": null,
            "grid_template_columns": null,
            "grid_template_rows": null,
            "height": null,
            "justify_content": null,
            "justify_items": null,
            "left": null,
            "margin": null,
            "max_height": null,
            "max_width": null,
            "min_height": null,
            "min_width": null,
            "object_fit": null,
            "object_position": null,
            "order": null,
            "overflow": null,
            "overflow_x": null,
            "overflow_y": null,
            "padding": null,
            "right": null,
            "top": null,
            "visibility": null,
            "width": null
          }
        },
        "870e6ee440a84732a42d5c629b0de673": {
          "model_module": "@jupyter-widgets/base",
          "model_name": "LayoutModel",
          "model_module_version": "1.2.0",
          "state": {
            "_model_module": "@jupyter-widgets/base",
            "_model_module_version": "1.2.0",
            "_model_name": "LayoutModel",
            "_view_count": null,
            "_view_module": "@jupyter-widgets/base",
            "_view_module_version": "1.2.0",
            "_view_name": "LayoutView",
            "align_content": null,
            "align_items": null,
            "align_self": null,
            "border": null,
            "bottom": null,
            "display": null,
            "flex": null,
            "flex_flow": null,
            "grid_area": null,
            "grid_auto_columns": null,
            "grid_auto_flow": null,
            "grid_auto_rows": null,
            "grid_column": null,
            "grid_gap": null,
            "grid_row": null,
            "grid_template_areas": null,
            "grid_template_columns": null,
            "grid_template_rows": null,
            "height": null,
            "justify_content": null,
            "justify_items": null,
            "left": null,
            "margin": null,
            "max_height": null,
            "max_width": null,
            "min_height": null,
            "min_width": null,
            "object_fit": null,
            "object_position": null,
            "order": null,
            "overflow": null,
            "overflow_x": null,
            "overflow_y": null,
            "padding": null,
            "right": null,
            "top": null,
            "visibility": null,
            "width": null
          }
        },
        "5a84e5ffd5d346e4b06ccdcccb48d74f": {
          "model_module": "@jupyter-widgets/controls",
          "model_name": "DescriptionStyleModel",
          "model_module_version": "1.5.0",
          "state": {
            "_model_module": "@jupyter-widgets/controls",
            "_model_module_version": "1.5.0",
            "_model_name": "DescriptionStyleModel",
            "_view_count": null,
            "_view_module": "@jupyter-widgets/base",
            "_view_module_version": "1.2.0",
            "_view_name": "StyleView",
            "description_width": ""
          }
        },
        "2ebbb8e7ef304f968e95a8162a05df72": {
          "model_module": "@jupyter-widgets/base",
          "model_name": "LayoutModel",
          "model_module_version": "1.2.0",
          "state": {
            "_model_module": "@jupyter-widgets/base",
            "_model_module_version": "1.2.0",
            "_model_name": "LayoutModel",
            "_view_count": null,
            "_view_module": "@jupyter-widgets/base",
            "_view_module_version": "1.2.0",
            "_view_name": "LayoutView",
            "align_content": null,
            "align_items": null,
            "align_self": null,
            "border": null,
            "bottom": null,
            "display": null,
            "flex": null,
            "flex_flow": null,
            "grid_area": null,
            "grid_auto_columns": null,
            "grid_auto_flow": null,
            "grid_auto_rows": null,
            "grid_column": null,
            "grid_gap": null,
            "grid_row": null,
            "grid_template_areas": null,
            "grid_template_columns": null,
            "grid_template_rows": null,
            "height": null,
            "justify_content": null,
            "justify_items": null,
            "left": null,
            "margin": null,
            "max_height": null,
            "max_width": null,
            "min_height": null,
            "min_width": null,
            "object_fit": null,
            "object_position": null,
            "order": null,
            "overflow": null,
            "overflow_x": null,
            "overflow_y": null,
            "padding": null,
            "right": null,
            "top": null,
            "visibility": null,
            "width": null
          }
        },
        "197488acc3994ad7a8e24023b5197324": {
          "model_module": "@jupyter-widgets/controls",
          "model_name": "ProgressStyleModel",
          "model_module_version": "1.5.0",
          "state": {
            "_model_module": "@jupyter-widgets/controls",
            "_model_module_version": "1.5.0",
            "_model_name": "ProgressStyleModel",
            "_view_count": null,
            "_view_module": "@jupyter-widgets/base",
            "_view_module_version": "1.2.0",
            "_view_name": "StyleView",
            "bar_color": null,
            "description_width": ""
          }
        },
        "21d5cfe36d04455682a38b1ff521cbe8": {
          "model_module": "@jupyter-widgets/base",
          "model_name": "LayoutModel",
          "model_module_version": "1.2.0",
          "state": {
            "_model_module": "@jupyter-widgets/base",
            "_model_module_version": "1.2.0",
            "_model_name": "LayoutModel",
            "_view_count": null,
            "_view_module": "@jupyter-widgets/base",
            "_view_module_version": "1.2.0",
            "_view_name": "LayoutView",
            "align_content": null,
            "align_items": null,
            "align_self": null,
            "border": null,
            "bottom": null,
            "display": null,
            "flex": null,
            "flex_flow": null,
            "grid_area": null,
            "grid_auto_columns": null,
            "grid_auto_flow": null,
            "grid_auto_rows": null,
            "grid_column": null,
            "grid_gap": null,
            "grid_row": null,
            "grid_template_areas": null,
            "grid_template_columns": null,
            "grid_template_rows": null,
            "height": null,
            "justify_content": null,
            "justify_items": null,
            "left": null,
            "margin": null,
            "max_height": null,
            "max_width": null,
            "min_height": null,
            "min_width": null,
            "object_fit": null,
            "object_position": null,
            "order": null,
            "overflow": null,
            "overflow_x": null,
            "overflow_y": null,
            "padding": null,
            "right": null,
            "top": null,
            "visibility": null,
            "width": null
          }
        },
        "bf3394b070044a90aaf0283b4ef678a8": {
          "model_module": "@jupyter-widgets/controls",
          "model_name": "DescriptionStyleModel",
          "model_module_version": "1.5.0",
          "state": {
            "_model_module": "@jupyter-widgets/controls",
            "_model_module_version": "1.5.0",
            "_model_name": "DescriptionStyleModel",
            "_view_count": null,
            "_view_module": "@jupyter-widgets/base",
            "_view_module_version": "1.2.0",
            "_view_name": "StyleView",
            "description_width": ""
          }
        },
        "e742686df7a84618b4379dae87f7435b": {
          "model_module": "@jupyter-widgets/controls",
          "model_name": "HBoxModel",
          "model_module_version": "1.5.0",
          "state": {
            "_dom_classes": [],
            "_model_module": "@jupyter-widgets/controls",
            "_model_module_version": "1.5.0",
            "_model_name": "HBoxModel",
            "_view_count": null,
            "_view_module": "@jupyter-widgets/controls",
            "_view_module_version": "1.5.0",
            "_view_name": "HBoxView",
            "box_style": "",
            "children": [
              "IPY_MODEL_c8d92a9ed739474daec8ca0c7acd7655",
              "IPY_MODEL_966f6ce882cc4def9e8a456f628ffdb6",
              "IPY_MODEL_b361e450fad74b3f851e262f2340ce17"
            ],
            "layout": "IPY_MODEL_b9482c068bfd484d9f1a829986ad91f4"
          }
        },
        "c8d92a9ed739474daec8ca0c7acd7655": {
          "model_module": "@jupyter-widgets/controls",
          "model_name": "HTMLModel",
          "model_module_version": "1.5.0",
          "state": {
            "_dom_classes": [],
            "_model_module": "@jupyter-widgets/controls",
            "_model_module_version": "1.5.0",
            "_model_name": "HTMLModel",
            "_view_count": null,
            "_view_module": "@jupyter-widgets/controls",
            "_view_module_version": "1.5.0",
            "_view_name": "HTMLView",
            "description": "",
            "description_tooltip": null,
            "layout": "IPY_MODEL_e100c565d6a148e79236ac18c252d9d0",
            "placeholder": "​",
            "style": "IPY_MODEL_0fffa805666248f69409a5e851edb057",
            "value": "100%"
          }
        },
        "966f6ce882cc4def9e8a456f628ffdb6": {
          "model_module": "@jupyter-widgets/controls",
          "model_name": "FloatProgressModel",
          "model_module_version": "1.5.0",
          "state": {
            "_dom_classes": [],
            "_model_module": "@jupyter-widgets/controls",
            "_model_module_version": "1.5.0",
            "_model_name": "FloatProgressModel",
            "_view_count": null,
            "_view_module": "@jupyter-widgets/controls",
            "_view_module_version": "1.5.0",
            "_view_name": "ProgressView",
            "bar_style": "success",
            "description": "",
            "description_tooltip": null,
            "layout": "IPY_MODEL_53b526f11d1e4804b51d67e4bab61cac",
            "max": 2510,
            "min": 0,
            "orientation": "horizontal",
            "style": "IPY_MODEL_0db742b058794773aaee60c4979d16a0",
            "value": 2510
          }
        },
        "b361e450fad74b3f851e262f2340ce17": {
          "model_module": "@jupyter-widgets/controls",
          "model_name": "HTMLModel",
          "model_module_version": "1.5.0",
          "state": {
            "_dom_classes": [],
            "_model_module": "@jupyter-widgets/controls",
            "_model_module_version": "1.5.0",
            "_model_name": "HTMLModel",
            "_view_count": null,
            "_view_module": "@jupyter-widgets/controls",
            "_view_module_version": "1.5.0",
            "_view_name": "HTMLView",
            "description": "",
            "description_tooltip": null,
            "layout": "IPY_MODEL_96d039ea52b846508d1969e06df967ca",
            "placeholder": "​",
            "style": "IPY_MODEL_1896d11a5e4c466f95f485b1decdb214",
            "value": " 2510/2510 [00:00&lt;00:00, 5152.53it/s]"
          }
        },
        "b9482c068bfd484d9f1a829986ad91f4": {
          "model_module": "@jupyter-widgets/base",
          "model_name": "LayoutModel",
          "model_module_version": "1.2.0",
          "state": {
            "_model_module": "@jupyter-widgets/base",
            "_model_module_version": "1.2.0",
            "_model_name": "LayoutModel",
            "_view_count": null,
            "_view_module": "@jupyter-widgets/base",
            "_view_module_version": "1.2.0",
            "_view_name": "LayoutView",
            "align_content": null,
            "align_items": null,
            "align_self": null,
            "border": null,
            "bottom": null,
            "display": null,
            "flex": null,
            "flex_flow": null,
            "grid_area": null,
            "grid_auto_columns": null,
            "grid_auto_flow": null,
            "grid_auto_rows": null,
            "grid_column": null,
            "grid_gap": null,
            "grid_row": null,
            "grid_template_areas": null,
            "grid_template_columns": null,
            "grid_template_rows": null,
            "height": null,
            "justify_content": null,
            "justify_items": null,
            "left": null,
            "margin": null,
            "max_height": null,
            "max_width": null,
            "min_height": null,
            "min_width": null,
            "object_fit": null,
            "object_position": null,
            "order": null,
            "overflow": null,
            "overflow_x": null,
            "overflow_y": null,
            "padding": null,
            "right": null,
            "top": null,
            "visibility": null,
            "width": null
          }
        },
        "e100c565d6a148e79236ac18c252d9d0": {
          "model_module": "@jupyter-widgets/base",
          "model_name": "LayoutModel",
          "model_module_version": "1.2.0",
          "state": {
            "_model_module": "@jupyter-widgets/base",
            "_model_module_version": "1.2.0",
            "_model_name": "LayoutModel",
            "_view_count": null,
            "_view_module": "@jupyter-widgets/base",
            "_view_module_version": "1.2.0",
            "_view_name": "LayoutView",
            "align_content": null,
            "align_items": null,
            "align_self": null,
            "border": null,
            "bottom": null,
            "display": null,
            "flex": null,
            "flex_flow": null,
            "grid_area": null,
            "grid_auto_columns": null,
            "grid_auto_flow": null,
            "grid_auto_rows": null,
            "grid_column": null,
            "grid_gap": null,
            "grid_row": null,
            "grid_template_areas": null,
            "grid_template_columns": null,
            "grid_template_rows": null,
            "height": null,
            "justify_content": null,
            "justify_items": null,
            "left": null,
            "margin": null,
            "max_height": null,
            "max_width": null,
            "min_height": null,
            "min_width": null,
            "object_fit": null,
            "object_position": null,
            "order": null,
            "overflow": null,
            "overflow_x": null,
            "overflow_y": null,
            "padding": null,
            "right": null,
            "top": null,
            "visibility": null,
            "width": null
          }
        },
        "0fffa805666248f69409a5e851edb057": {
          "model_module": "@jupyter-widgets/controls",
          "model_name": "DescriptionStyleModel",
          "model_module_version": "1.5.0",
          "state": {
            "_model_module": "@jupyter-widgets/controls",
            "_model_module_version": "1.5.0",
            "_model_name": "DescriptionStyleModel",
            "_view_count": null,
            "_view_module": "@jupyter-widgets/base",
            "_view_module_version": "1.2.0",
            "_view_name": "StyleView",
            "description_width": ""
          }
        },
        "53b526f11d1e4804b51d67e4bab61cac": {
          "model_module": "@jupyter-widgets/base",
          "model_name": "LayoutModel",
          "model_module_version": "1.2.0",
          "state": {
            "_model_module": "@jupyter-widgets/base",
            "_model_module_version": "1.2.0",
            "_model_name": "LayoutModel",
            "_view_count": null,
            "_view_module": "@jupyter-widgets/base",
            "_view_module_version": "1.2.0",
            "_view_name": "LayoutView",
            "align_content": null,
            "align_items": null,
            "align_self": null,
            "border": null,
            "bottom": null,
            "display": null,
            "flex": null,
            "flex_flow": null,
            "grid_area": null,
            "grid_auto_columns": null,
            "grid_auto_flow": null,
            "grid_auto_rows": null,
            "grid_column": null,
            "grid_gap": null,
            "grid_row": null,
            "grid_template_areas": null,
            "grid_template_columns": null,
            "grid_template_rows": null,
            "height": null,
            "justify_content": null,
            "justify_items": null,
            "left": null,
            "margin": null,
            "max_height": null,
            "max_width": null,
            "min_height": null,
            "min_width": null,
            "object_fit": null,
            "object_position": null,
            "order": null,
            "overflow": null,
            "overflow_x": null,
            "overflow_y": null,
            "padding": null,
            "right": null,
            "top": null,
            "visibility": null,
            "width": null
          }
        },
        "0db742b058794773aaee60c4979d16a0": {
          "model_module": "@jupyter-widgets/controls",
          "model_name": "ProgressStyleModel",
          "model_module_version": "1.5.0",
          "state": {
            "_model_module": "@jupyter-widgets/controls",
            "_model_module_version": "1.5.0",
            "_model_name": "ProgressStyleModel",
            "_view_count": null,
            "_view_module": "@jupyter-widgets/base",
            "_view_module_version": "1.2.0",
            "_view_name": "StyleView",
            "bar_color": null,
            "description_width": ""
          }
        },
        "96d039ea52b846508d1969e06df967ca": {
          "model_module": "@jupyter-widgets/base",
          "model_name": "LayoutModel",
          "model_module_version": "1.2.0",
          "state": {
            "_model_module": "@jupyter-widgets/base",
            "_model_module_version": "1.2.0",
            "_model_name": "LayoutModel",
            "_view_count": null,
            "_view_module": "@jupyter-widgets/base",
            "_view_module_version": "1.2.0",
            "_view_name": "LayoutView",
            "align_content": null,
            "align_items": null,
            "align_self": null,
            "border": null,
            "bottom": null,
            "display": null,
            "flex": null,
            "flex_flow": null,
            "grid_area": null,
            "grid_auto_columns": null,
            "grid_auto_flow": null,
            "grid_auto_rows": null,
            "grid_column": null,
            "grid_gap": null,
            "grid_row": null,
            "grid_template_areas": null,
            "grid_template_columns": null,
            "grid_template_rows": null,
            "height": null,
            "justify_content": null,
            "justify_items": null,
            "left": null,
            "margin": null,
            "max_height": null,
            "max_width": null,
            "min_height": null,
            "min_width": null,
            "object_fit": null,
            "object_position": null,
            "order": null,
            "overflow": null,
            "overflow_x": null,
            "overflow_y": null,
            "padding": null,
            "right": null,
            "top": null,
            "visibility": null,
            "width": null
          }
        },
        "1896d11a5e4c466f95f485b1decdb214": {
          "model_module": "@jupyter-widgets/controls",
          "model_name": "DescriptionStyleModel",
          "model_module_version": "1.5.0",
          "state": {
            "_model_module": "@jupyter-widgets/controls",
            "_model_module_version": "1.5.0",
            "_model_name": "DescriptionStyleModel",
            "_view_count": null,
            "_view_module": "@jupyter-widgets/base",
            "_view_module_version": "1.2.0",
            "_view_name": "StyleView",
            "description_width": ""
          }
        }
      }
    }
  },
  "nbformat": 4,
  "nbformat_minor": 0
}